{
 "cells": [
  {
   "cell_type": "code",
   "execution_count": 4,
   "id": "70b4c86b-a3c5-48c9-8476-e7bb79e5c2c8",
   "metadata": {},
   "outputs": [],
   "source": [
    "import pandas as pd\n",
    "import matplotlib.pyplot as plot"
   ]
  },
  {
   "cell_type": "code",
   "execution_count": null,
   "id": "474c5c8c-6d45-4a4a-bba3-b0604cdbd585",
   "metadata": {},
   "outputs": [],
   "source": [
    "sleephealth= pd.read_csv(\"Sleep_health_and_lifestyle_dataset.csv\")\n",
    "sleephealth.head()"
   ]
  },
  {
   "cell_type": "code",
   "execution_count": 18,
   "id": "b943acff-b257-498b-b281-c3e7c5a06e13",
   "metadata": {},
   "outputs": [
    {
     "data": {
      "text/plain": [
       "'Male'"
      ]
     },
     "execution_count": 18,
     "metadata": {},
     "output_type": "execute_result"
    }
   ],
   "source": [
    "sleephealth.loc[0,\"Gender\"]"
   ]
  },
  {
   "cell_type": "code",
   "execution_count": 24,
   "id": "4dc30920-21e0-47fd-adcd-11e4f67c912c",
   "metadata": {},
   "outputs": [
    {
     "data": {
      "text/plain": [
       "array(['Software Engineer', 'Doctor', 'Sales Representative', 'Teacher',\n",
       "       'Nurse', 'Engineer', 'Accountant', 'Scientist', 'Lawyer',\n",
       "       'Salesperson', 'Manager'], dtype=object)"
      ]
     },
     "execution_count": 24,
     "metadata": {},
     "output_type": "execute_result"
    }
   ],
   "source": [
    "sleephealth[\"Occupation\"].unique()"
   ]
  },
  {
   "cell_type": "code",
   "execution_count": 25,
   "id": "a891c8ed-787f-4bdb-8c62-3aeee733767b",
   "metadata": {},
   "outputs": [
    {
     "data": {
      "text/plain": [
       "<bound method DataFrame.query of      Person ID  Gender  Age            Occupation  Sleep Duration  \\\n",
       "0            1    Male   27     Software Engineer             6.1   \n",
       "1            2    Male   28                Doctor             6.2   \n",
       "2            3    Male   28                Doctor             6.2   \n",
       "3            4    Male   28  Sales Representative             5.9   \n",
       "4            5    Male   28  Sales Representative             5.9   \n",
       "..         ...     ...  ...                   ...             ...   \n",
       "369        370  Female   59                 Nurse             8.1   \n",
       "370        371  Female   59                 Nurse             8.0   \n",
       "371        372  Female   59                 Nurse             8.1   \n",
       "372        373  Female   59                 Nurse             8.1   \n",
       "373        374  Female   59                 Nurse             8.1   \n",
       "\n",
       "     Quality of Sleep  Physical Activity Level  Stress Level BMI Category  \\\n",
       "0                   6                       42             6   Overweight   \n",
       "1                   6                       60             8       Normal   \n",
       "2                   6                       60             8       Normal   \n",
       "3                   4                       30             8        Obese   \n",
       "4                   4                       30             8        Obese   \n",
       "..                ...                      ...           ...          ...   \n",
       "369                 9                       75             3   Overweight   \n",
       "370                 9                       75             3   Overweight   \n",
       "371                 9                       75             3   Overweight   \n",
       "372                 9                       75             3   Overweight   \n",
       "373                 9                       75             3   Overweight   \n",
       "\n",
       "    Blood Pressure  Heart Rate  Daily Steps Sleep Disorder  \n",
       "0           126/83          77         4200            NaN  \n",
       "1           125/80          75        10000            NaN  \n",
       "2           125/80          75        10000            NaN  \n",
       "3           140/90          85         3000    Sleep Apnea  \n",
       "4           140/90          85         3000    Sleep Apnea  \n",
       "..             ...         ...          ...            ...  \n",
       "369         140/95          68         7000    Sleep Apnea  \n",
       "370         140/95          68         7000    Sleep Apnea  \n",
       "371         140/95          68         7000    Sleep Apnea  \n",
       "372         140/95          68         7000    Sleep Apnea  \n",
       "373         140/95          68         7000    Sleep Apnea  \n",
       "\n",
       "[374 rows x 13 columns]>"
      ]
     },
     "execution_count": 25,
     "metadata": {},
     "output_type": "execute_result"
    }
   ],
   "source": [
    "sleephealth.query"
   ]
  },
  {
   "cell_type": "code",
   "execution_count": 3,
   "id": "ca724e75-6c4c-4763-8b68-ef2f8dc315a0",
   "metadata": {},
   "outputs": [
    {
     "ename": "NameError",
     "evalue": "name 'sleephealth' is not defined",
     "output_type": "error",
     "traceback": [
      "\u001b[0;31m---------------------------------------------------------------------------\u001b[0m",
      "\u001b[0;31mNameError\u001b[0m                                 Traceback (most recent call last)",
      "Cell \u001b[0;32mIn[3], line 1\u001b[0m\n\u001b[0;32m----> 1\u001b[0m \u001b[43msleephealth\u001b[49m\u001b[38;5;241m.\u001b[39mAge\n",
      "\u001b[0;31mNameError\u001b[0m: name 'sleephealth' is not defined"
     ]
    }
   ],
   "source": [
    "sleephealth.Age"
   ]
  },
  {
   "cell_type": "code",
   "execution_count": 2,
   "id": "cbacb44e-6dd8-43c2-95dd-80f3f03c0603",
   "metadata": {},
   "outputs": [
    {
     "ename": "NameError",
     "evalue": "name 'sleephealth' is not defined",
     "output_type": "error",
     "traceback": [
      "\u001b[0;31m---------------------------------------------------------------------------\u001b[0m",
      "\u001b[0;31mNameError\u001b[0m                                 Traceback (most recent call last)",
      "Cell \u001b[0;32mIn[2], line 1\u001b[0m\n\u001b[0;32m----> 1\u001b[0m \u001b[43msleephealth\u001b[49m\u001b[38;5;241m.\u001b[39mGender\n",
      "\u001b[0;31mNameError\u001b[0m: name 'sleephealth' is not defined"
     ]
    }
   ],
   "source": [
    "sleephealth.Gender"
   ]
  },
  {
   "cell_type": "code",
   "execution_count": null,
   "id": "b454d6c8-55ac-4ba2-891e-1e236fd2e01a",
   "metadata": {},
   "outputs": [],
   "source": []
  },
  {
   "cell_type": "code",
   "execution_count": null,
   "id": "3cabb061-1254-4b41-a1c8-8dfce0880508",
   "metadata": {},
   "outputs": [],
   "source": []
  }
 ],
 "metadata": {
  "kernelspec": {
   "display_name": "anaconda-2024.02-py310",
   "language": "python",
   "name": "conda-env-anaconda-2024.02-py310-py"
  },
  "language_info": {
   "codemirror_mode": {
    "name": "ipython",
    "version": 3
   },
   "file_extension": ".py",
   "mimetype": "text/x-python",
   "name": "python",
   "nbconvert_exporter": "python",
   "pygments_lexer": "ipython3",
   "version": "3.10.14"
  }
 },
 "nbformat": 4,
 "nbformat_minor": 5
}
