{
 "cells": [
  {
   "cell_type": "code",
   "execution_count": 1,
   "id": "b3f70e3c-dde2-43f6-946e-cf9c70b214ee",
   "metadata": {},
   "outputs": [
    {
     "name": "stdout",
     "output_type": "stream",
     "text": [
      "4\n",
      "<class 'int'>\n"
     ]
    }
   ],
   "source": [
    "x=4\n",
    "print(x)\n",
    "print(type(x))"
   ]
  },
  {
   "cell_type": "code",
   "execution_count": 2,
   "id": "2496e22f-3660-4e33-b788-b209064954de",
   "metadata": {},
   "outputs": [
    {
     "name": "stdout",
     "output_type": "stream",
     "text": [
      "4.5\n",
      "<class 'float'>\n"
     ]
    }
   ],
   "source": [
    "x=4.5\n",
    "print(x)\n",
    "print(type(x))"
   ]
  },
  {
   "cell_type": "code",
   "execution_count": 3,
   "id": "fabe7ce8-130b-456f-b6aa-fbb9c80de026",
   "metadata": {},
   "outputs": [
    {
     "name": "stdout",
     "output_type": "stream",
     "text": [
      "sainath\n",
      "<class 'str'>\n"
     ]
    }
   ],
   "source": [
    "x=(\"sainath\")\n",
    "print(x)\n",
    "print(type(x))"
   ]
  },
  {
   "cell_type": "code",
   "execution_count": 4,
   "id": "a9f4280c-9283-4a20-b71b-b29116d7254b",
   "metadata": {},
   "outputs": [
    {
     "name": "stdout",
     "output_type": "stream",
     "text": [
      "i\n",
      "<class 'str'>\n"
     ]
    }
   ],
   "source": [
    "x=(\"sainath\")\n",
    "print(x[2])\n",
    "print(type(x))"
   ]
  },
  {
   "cell_type": "code",
   "execution_count": 5,
   "id": "020294ec-12ce-4d3d-97c9-5eb5e853127e",
   "metadata": {},
   "outputs": [
    {
     "name": "stdout",
     "output_type": "stream",
     "text": [
      "emmidi\n",
      "<class 'tuple'>\n"
     ]
    }
   ],
   "source": [
    "t=(\"sainath\",\"emmidi\")\n",
    "print(t[1])\n",
    "print(type(t))"
   ]
  },
  {
   "cell_type": "code",
   "execution_count": 6,
   "id": "7e326ca5-3f58-4abf-9d9f-8de48d90ff3e",
   "metadata": {},
   "outputs": [
    {
     "name": "stdout",
     "output_type": "stream",
     "text": [
      "{'sainath'}\n",
      "<class 'set'>\n"
     ]
    }
   ],
   "source": [
    "d={\"sainath\"}\n",
    "print(d)\n",
    "print(type(d))"
   ]
  },
  {
   "cell_type": "code",
   "execution_count": 7,
   "id": "44482f57-5676-4c88-a58a-5e8f5dea5195",
   "metadata": {},
   "outputs": [
    {
     "name": "stdout",
     "output_type": "stream",
     "text": [
      "['sainath']\n",
      "<class 'list'>\n"
     ]
    }
   ],
   "source": [
    "l=[\"sainath\"]\n",
    "print(l)\n",
    "print(type(l))"
   ]
  },
  {
   "cell_type": "code",
   "execution_count": 8,
   "id": "1aded6cb-c0ba-4c48-b931-06ec5d2f8617",
   "metadata": {},
   "outputs": [
    {
     "name": "stdout",
     "output_type": "stream",
     "text": [
      "Set with the use of List:  ['sainath', 'emmidi']\n",
      "<class 'list'>\n"
     ]
    }
   ],
   "source": [
    "s=[\"sainath\",\"emmidi\"]\n",
    "print(\"Set with the use of List: \" , s)\n",
    "\n",
    "print(type(s))"
   ]
  },
  {
   "cell_type": "code",
   "execution_count": 9,
   "id": "8fcd47e0-76b8-4af0-8969-e4bffb1c1b09",
   "metadata": {},
   "outputs": [
    {
     "name": "stdout",
     "output_type": "stream",
     "text": [
      "Set with the use of String:  ('sainath', 'emmidi')\n",
      "<class 'tuple'>\n"
     ]
    }
   ],
   "source": [
    "s=(\"sainath\",\"emmidi\")\n",
    "print(\"Set with the use of String: \" , s)\n",
    "print(type(s))"
   ]
  },
  {
   "cell_type": "code",
   "execution_count": 10,
   "id": "f6233bd1-c92b-4c90-85fe-39dea5e74b33",
   "metadata": {},
   "outputs": [
    {
     "name": "stdout",
     "output_type": "stream",
     "text": [
      "Set with the use of String:  {'n', 'i', 'e', 'd', 'a', 't', 's', 'm', 'h'}\n",
      "<class 'set'>\n"
     ]
    }
   ],
   "source": [
    "s=set(\"sainathemmidi\")\n",
    "print(\"Set with the use of String: \" , s)\n",
    "\n",
    "print(type(s))"
   ]
  },
  {
   "cell_type": "code",
   "execution_count": 11,
   "id": "cde87fee-3b4f-4f28-bdc7-8af24378d257",
   "metadata": {},
   "outputs": [
    {
     "name": "stdout",
     "output_type": "stream",
     "text": [
      "Set with the use of List:  set['sainathemmidi']\n",
      "<class 'types.GenericAlias'>\n"
     ]
    }
   ],
   "source": [
    "s=set[\"sainathemmidi\"]\n",
    "print(\"Set with the use of List: \" , s)\n",
    "\n",
    "print(type(s))\n"
   ]
  },
  {
   "cell_type": "code",
   "execution_count": 12,
   "id": "be2941f0-c0df-45e2-86a4-221beb8b3580",
   "metadata": {},
   "outputs": [
    {
     "name": "stdout",
     "output_type": "stream",
     "text": [
      "Set with the use of String:  {'sainathemmidi'}\n",
      "<class 'set'>\n"
     ]
    }
   ],
   "source": [
    "s=set({\"sainathemmidi\"})\n",
    "print(\"Set with the use of String: \" , s )\n",
    "print(type(s))"
   ]
  },
  {
   "cell_type": "code",
   "execution_count": 13,
   "id": "d10fd050-a1b6-4faf-9857-d02f33c66085",
   "metadata": {},
   "outputs": [
    {
     "name": "stdout",
     "output_type": "stream",
     "text": [
      "a less han b\n"
     ]
    }
   ],
   "source": [
    "a=6\n",
    "b=7\n",
    "if a>b:\n",
    "  print(\"a greater than b\")\n",
    "else:\n",
    "  print(\"a less han b\")\n",
    "    \n"
   ]
  },
  {
   "cell_type": "code",
   "execution_count": 14,
   "id": "7363ac0f-75c0-4ffe-9250-956814099859",
   "metadata": {},
   "outputs": [
    {
     "name": "stdout",
     "output_type": "stream",
     "text": [
      "True\n"
     ]
    }
   ],
   "source": [
    "a=6\n",
    "b=7\n",
    "if a>b:\n",
    "  print(bool(\"a greater than b\"))\n",
    "else:\n",
    "  print(bool(\"a less han b\"))"
   ]
  },
  {
   "cell_type": "code",
   "execution_count": 15,
   "id": "9f126f79-25c0-4c48-9a85-aeb41609bb3b",
   "metadata": {},
   "outputs": [
    {
     "name": "stdout",
     "output_type": "stream",
     "text": [
      "True\n",
      "<class 'int'>\n"
     ]
    }
   ],
   "source": [
    "a=6\n",
    "b=7\n",
    "if a>b:\n",
    "  print(bool(\"a is less than b\"))\n",
    "else:\n",
    "    print(bool(\"a is greater than b\"))\n",
    "    print(type(a))\n"
   ]
  },
  {
   "cell_type": "code",
   "execution_count": 16,
   "id": "dca7a295-4eff-491c-8655-2ba74963ce35",
   "metadata": {},
   "outputs": [
    {
     "name": "stdout",
     "output_type": "stream",
     "text": [
      "False\n",
      "<class 'int'>\n"
     ]
    }
   ],
   "source": [
    "a=10\n",
    "b=15\n",
    "print(bool(a>b))\n",
    "print(type(a))"
   ]
  },
  {
   "cell_type": "code",
   "execution_count": 17,
   "id": "3acd5286-ff31-4a97-aa6c-c899af351ef2",
   "metadata": {},
   "outputs": [
    {
     "name": "stdout",
     "output_type": "stream",
     "text": [
      "{'first name': 'sainath', 'last name': 'emmidi'}\n",
      "<class 'dict'>\n"
     ]
    }
   ],
   "source": [
    "names={\n",
    "    \"first name\": \"sainath\",\n",
    "    \"last name\":  \"emmidi\"\n",
    "}\n",
    "print(names)\n",
    "print(type(names))\n"
   ]
  },
  {
   "cell_type": "code",
   "execution_count": 18,
   "id": "83cb2b5f-06a3-4ce3-a00f-401025a85835",
   "metadata": {},
   "outputs": [
    {
     "name": "stdout",
     "output_type": "stream",
     "text": [
      "(32+11j)\n",
      "<class 'complex'>\n"
     ]
    }
   ],
   "source": [
    "a=10+3j\n",
    "b=22+8j\n",
    "print(a+b)\n",
    "print(type(a))"
   ]
  },
  {
   "cell_type": "code",
   "execution_count": 19,
   "id": "44865e01-65b1-4cfe-bc68-91a16a36ed1c",
   "metadata": {},
   "outputs": [
    {
     "name": "stdout",
     "output_type": "stream",
     "text": [
      "<class 'bool'>\n"
     ]
    }
   ],
   "source": [
    "x= True\n",
    "print(type(x))"
   ]
  },
  {
   "cell_type": "code",
   "execution_count": 20,
   "id": "5a5f12a3-3b20-4fdd-8612-3ea851c9b43d",
   "metadata": {},
   "outputs": [
    {
     "name": "stdout",
     "output_type": "stream",
     "text": [
      "EMMIDISAINATH\n",
      "M\n",
      "<class 'str'>\n"
     ]
    }
   ],
   "source": [
    "x= \"EMMIDISAINATH\"\n",
    "print(x)\n",
    "print(x[1])\n",
    "print(type(x))\n"
   ]
  },
  {
   "cell_type": "code",
   "execution_count": 21,
   "id": "1458657e-80db-4039-851a-2f0cdc64fc02",
   "metadata": {},
   "outputs": [
    {
     "name": "stdout",
     "output_type": "stream",
     "text": [
      "{1: 'sainath', 2: 'emmidi'}\n",
      "sainath\n",
      "<class 'dict'>\n"
     ]
    }
   ],
   "source": [
    "d={1: \"sainath\" ,2: \"emmidi\"}\n",
    "print(d)\n",
    "print(d.get(1))\n",
    "print(type(d))"
   ]
  },
  {
   "cell_type": "code",
   "execution_count": 22,
   "id": "2dcffb7e-abe8-45dd-b3b6-cfa1fef47960",
   "metadata": {},
   "outputs": [
    {
     "data": {
      "text/plain": [
       "110.9"
      ]
     },
     "execution_count": 22,
     "metadata": {},
     "output_type": "execute_result"
    }
   ],
   "source": [
    "#type casting\n",
    "float(110.90)\n"
   ]
  },
  {
   "cell_type": "code",
   "execution_count": 23,
   "id": "950f39e7-e8fd-43f3-90c6-1b0aaa243800",
   "metadata": {},
   "outputs": [
    {
     "data": {
      "text/plain": [
       "1"
      ]
     },
     "execution_count": 23,
     "metadata": {},
     "output_type": "execute_result"
    }
   ],
   "source": [
    "int(True)"
   ]
  },
  {
   "cell_type": "code",
   "execution_count": 24,
   "id": "1b5f2f8d-d38b-42f7-94f1-8a9122744bc2",
   "metadata": {},
   "outputs": [
    {
     "ename": "ValueError",
     "evalue": "invalid literal for int() with base 10: 'ten'",
     "output_type": "error",
     "traceback": [
      "\u001b[0;31m---------------------------------------------------------------------------\u001b[0m",
      "\u001b[0;31mValueError\u001b[0m                                Traceback (most recent call last)",
      "Cell \u001b[0;32mIn[24], line 1\u001b[0m\n\u001b[0;32m----> 1\u001b[0m \u001b[38;5;28mint\u001b[39m(\u001b[38;5;124m'\u001b[39m\u001b[38;5;124mten\u001b[39m\u001b[38;5;124m'\u001b[39m)\n",
      "\u001b[0;31mValueError\u001b[0m: invalid literal for int() with base 10: 'ten'"
     ]
    }
   ],
   "source": [
    "int('ten')"
   ]
  },
  {
   "cell_type": "code",
   "execution_count": null,
   "id": "23aae586-83b8-4507-a2bd-655fc5ffeb56",
   "metadata": {},
   "outputs": [],
   "source": [
    "int(10)"
   ]
  },
  {
   "cell_type": "code",
   "execution_count": null,
   "id": "e304c598-af3f-42d0-8543-46e2ae6a644d",
   "metadata": {},
   "outputs": [],
   "source": [
    " #int to float\n",
    "float(True)"
   ]
  },
  {
   "cell_type": "code",
   "execution_count": 1,
   "id": "da423377-6e8c-4d00-a081-526c9ab5a21d",
   "metadata": {},
   "outputs": [
    {
     "data": {
      "text/plain": [
       "True"
      ]
     },
     "execution_count": 1,
     "metadata": {},
     "output_type": "execute_result"
    }
   ],
   "source": [
    "bool(10)"
   ]
  },
  {
   "cell_type": "code",
   "execution_count": 2,
   "id": "b6b307d6-eb82-4327-9f46-0c14e7fd4dc9",
   "metadata": {},
   "outputs": [
    {
     "data": {
      "text/plain": [
       "False"
      ]
     },
     "execution_count": 2,
     "metadata": {},
     "output_type": "execute_result"
    }
   ],
   "source": [
    "bool( )"
   ]
  },
  {
   "cell_type": "code",
   "execution_count": 3,
   "id": "d3db6d50-bd64-43d6-9639-cda20b033f7c",
   "metadata": {},
   "outputs": [
    {
     "data": {
      "text/plain": [
       "(10+0j)"
      ]
     },
     "execution_count": 3,
     "metadata": {},
     "output_type": "execute_result"
    }
   ],
   "source": [
    "complex(10)"
   ]
  },
  {
   "cell_type": "code",
   "execution_count": 30,
   "id": "64649dcb-e31e-4f92-9d11-0dfc1fa806ed",
   "metadata": {},
   "outputs": [
    {
     "name": "stdout",
     "output_type": "stream",
     "text": [
      "<built-in function id>\n"
     ]
    }
   ],
   "source": [
    "id(a)\n",
    "print(id)"
   ]
  },
  {
   "cell_type": "code",
   "execution_count": null,
   "id": "c5fffb6e-eb1f-4827-9e85-070b93f7244c",
   "metadata": {},
   "outputs": [],
   "source": [
    "print(id(a))\n",
    "print(id(b))"
   ]
  },
  {
   "cell_type": "code",
   "execution_count": 27,
   "id": "94d60998-eaaf-4f4f-bda0-b0fbf6959333",
   "metadata": {},
   "outputs": [
    {
     "data": {
      "text/plain": [
       "'a3max'"
      ]
     },
     "execution_count": 27,
     "metadata": {},
     "output_type": "execute_result"
    }
   ],
   "source": [
    "index= 'a3max'\n",
    "index"
   ]
  },
  {
   "cell_type": "code",
   "execution_count": 29,
   "id": "52448a77-66bf-4e3a-b592-4ce99692ed40",
   "metadata": {},
   "outputs": [
    {
     "name": "stdout",
     "output_type": "stream",
     "text": [
      "2\n"
     ]
    }
   ],
   "source": [
    "x=2 \n",
    "print(x)"
   ]
  },
  {
   "cell_type": "code",
   "execution_count": 2,
   "id": "6f612c79-c568-48c1-adbd-61a5c0957628",
   "metadata": {},
   "outputs": [
    {
     "name": "stdout",
     "output_type": "stream",
     "text": [
      "10 5\n"
     ]
    }
   ],
   "source": [
    "\n",
    "#operators\n",
    "a=10\n",
    "b=5\n",
    "print(a,b)"
   ]
  },
  {
   "cell_type": "code",
   "execution_count": 3,
   "id": "5554a50c-daa6-4599-bc21-c2bcb99b0547",
   "metadata": {},
   "outputs": [
    {
     "name": "stdout",
     "output_type": "stream",
     "text": [
      "0.25\n",
      "16\n",
      "0\n",
      "256\n"
     ]
    }
   ],
   "source": [
    "a=2\n",
    "b=8\n",
    "print(a/b)\n",
    "print(a*b)\n",
    "print(a//b)\n",
    "print(a**b)"
   ]
  },
  {
   "cell_type": "code",
   "execution_count": 4,
   "id": "076a6cc9-63fe-444d-bfb7-7e06c84e437d",
   "metadata": {},
   "outputs": [
    {
     "name": "stdout",
     "output_type": "stream",
     "text": [
      "4\n"
     ]
    }
   ],
   "source": [
    "x=2\n",
    "x=x+2\n",
    "print(x)"
   ]
  },
  {
   "cell_type": "code",
   "execution_count": 5,
   "id": "9f38b280-fcbb-4f35-869e-4e1a22a0980e",
   "metadata": {},
   "outputs": [
    {
     "data": {
      "text/plain": [
       "8"
      ]
     },
     "execution_count": 5,
     "metadata": {},
     "output_type": "execute_result"
    }
   ],
   "source": [
    "x*+2"
   ]
  },
  {
   "cell_type": "code",
   "execution_count": 6,
   "id": "8136f8a0-870e-46ed-9b7d-154b141f6b3f",
   "metadata": {},
   "outputs": [],
   "source": [
    "a=6\n",
    "b=7\n",
    "a=a+b\n",
    "a=a-b\n",
    "a=a-b\n",
    "\n"
   ]
  },
  {
   "cell_type": "code",
   "execution_count": 7,
   "id": "a9d29b4e-6735-46f6-b523-9d40abd9c953",
   "metadata": {},
   "outputs": [
    {
     "name": "stdout",
     "output_type": "stream",
     "text": [
      "6 5\n"
     ]
    }
   ],
   "source": [
    "a=5\n",
    "b=6\n",
    "temp=a\n",
    "a=b\n",
    "b=temp\n",
    "print(a,b)"
   ]
  },
  {
   "cell_type": "code",
   "execution_count": 8,
   "id": "1013f879-4c7d-475c-8d2b-4f966b87dd5f",
   "metadata": {},
   "outputs": [
    {
     "name": "stdout",
     "output_type": "stream",
     "text": [
      "6 5\n"
     ]
    }
   ],
   "source": [
    "a=5\n",
    "b=6\n",
    "a=a+b\n",
    "b=a-b\n",
    "a=a-b\n",
    "print(a,b)"
   ]
  },
  {
   "cell_type": "code",
   "execution_count": 9,
   "id": "dcc5a275-2fd5-46b3-be6f-2d1fe15f203e",
   "metadata": {},
   "outputs": [
    {
     "name": "stdout",
     "output_type": "stream",
     "text": [
      "(6, 5)\n"
     ]
    }
   ],
   "source": [
    "a=a,b\n",
    "print(a)"
   ]
  },
  {
   "cell_type": "code",
   "execution_count": 10,
   "id": "8ab729e5-ed3d-4e15-8ec3-2a332ee8f780",
   "metadata": {},
   "outputs": [
    {
     "name": "stdout",
     "output_type": "stream",
     "text": [
      "7.0\n"
     ]
    }
   ],
   "source": [
    "import math  # square root we used to import this\n",
    "x=math.sqrt(49)\n",
    "print(x)"
   ]
  },
  {
   "cell_type": "code",
   "execution_count": 11,
   "id": "75d16bfd-870c-452c-922e-a5b22d54a64c",
   "metadata": {},
   "outputs": [
    {
     "name": "stdout",
     "output_type": "stream",
     "text": [
      "2\n"
     ]
    }
   ],
   "source": [
    "print(math.floor(2.5))"
   ]
  },
  {
   "cell_type": "code",
   "execution_count": 12,
   "id": "9fe85fab-6651-4a5a-a021-3cb5b2f34176",
   "metadata": {},
   "outputs": [
    {
     "name": "stdout",
     "output_type": "stream",
     "text": [
      "3\n"
     ]
    }
   ],
   "source": [
    "print(math.ceil(2.1))"
   ]
  },
  {
   "cell_type": "code",
   "execution_count": 13,
   "id": "d75325c2-23f7-40e4-b8e6-1c236a2dcb00",
   "metadata": {},
   "outputs": [
    {
     "name": "stdout",
     "output_type": "stream",
     "text": [
      "16.0\n"
     ]
    }
   ],
   "source": [
    "print(math.pow(2,4))"
   ]
  },
  {
   "cell_type": "code",
   "execution_count": 14,
   "id": "be9e8f2a-3215-4a52-a884-5ee30d04a3f4",
   "metadata": {},
   "outputs": [
    {
     "name": "stdout",
     "output_type": "stream",
     "text": [
      "27\n"
     ]
    }
   ],
   "source": [
    "x=3**3\n",
    "print(x)"
   ]
  },
  {
   "cell_type": "code",
   "execution_count": 15,
   "id": "f49d8415-09f6-41bd-8b28-ee29158c9fb3",
   "metadata": {},
   "outputs": [
    {
     "name": "stdout",
     "output_type": "stream",
     "text": [
      "5\n"
     ]
    }
   ],
   "source": [
    "def add(a, b):   #functions use by def\n",
    "    return a + b\n",
    "\n",
    "result = add(2, 3)\n",
    "print(result)  \n",
    "\n",
    "    \n"
   ]
  },
  {
   "cell_type": "code",
   "execution_count": 16,
   "id": "c80dd617-0d57-47a5-837e-0b1422375c83",
   "metadata": {},
   "outputs": [
    {
     "name": "stdout",
     "output_type": "stream",
     "text": [
      "1\n",
      "2\n",
      "3\n",
      "4\n",
      "5\n",
      "6\n",
      "7\n",
      "8\n",
      "9\n",
      "10\n"
     ]
    }
   ],
   "source": [
    "#looping\n",
    "x=1\n",
    "while x<=10:\n",
    "    print(x)\n",
    "    x=x+1\n",
    "    "
   ]
  },
  {
   "cell_type": "code",
   "execution_count": 17,
   "id": "8717eeca-2f0d-45a0-b174-0a3daf5a5211",
   "metadata": {},
   "outputs": [
    {
     "name": "stdout",
     "output_type": "stream",
     "text": [
      "[2, 4]\n"
     ]
    }
   ],
   "source": [
    "numbers = [1, 2, 3, 4, 5] #lamda functions even numbers\n",
    "even_numbers = list(filter(lambda x: x % 2 == 0, numbers))\n",
    "print(even_numbers)  \n"
   ]
  },
  {
   "cell_type": "code",
   "execution_count": 18,
   "id": "8faf7452-4c17-49ee-8412-4f299314a451",
   "metadata": {},
   "outputs": [
    {
     "name": "stdout",
     "output_type": "stream",
     "text": [
      "1\n",
      "2\n",
      "3\n",
      "no items left.\n"
     ]
    }
   ],
   "source": [
    "#for loop with else\n",
    "digits=[1,2,3]\n",
    "for i in digits:\n",
    "    print(i)\n",
    "else:\n",
    "    print(\"no items left.\")"
   ]
  },
  {
   "cell_type": "code",
   "execution_count": 23,
   "id": "e06ffa17-8e69-4eb3-af16-0526818f591e",
   "metadata": {},
   "outputs": [
    {
     "name": "stdin",
     "output_type": "stream",
     "text": [
      "enter your number 2\n"
     ]
    },
    {
     "name": "stdout",
     "output_type": "stream",
     "text": [
      "given number is +ve\n"
     ]
    }
   ],
   "source": [
    "#program check positive or negative or zero\n",
    "n=int(input(\"enter your number\"))\n",
    "if n>=0:\n",
    "    print(\"given number is +ve\")\n",
    "else:    \n",
    "    print(\"given number is -ve\")\n",
    "    print(\"i am not executing\")"
   ]
  },
  {
   "cell_type": "code",
   "execution_count": 31,
   "id": "a8dadd7a-e0bc-44ee-bad9-4446a15f3251",
   "metadata": {},
   "outputs": [
    {
     "name": "stdin",
     "output_type": "stream",
     "text": [
      "enter your number 5\n"
     ]
    },
    {
     "name": "stdout",
     "output_type": "stream",
     "text": [
      "5\n",
      "20\n",
      "60\n",
      "120\n",
      "120\n"
     ]
    }
   ],
   "source": [
    "#factorial numbers\n",
    "n=int(input(\"enter your number\"))\n",
    "fact=1\n",
    "while n>0:\n",
    "    fact=fact*n\n",
    "    n=n-1\n",
    "    print(fact)"
   ]
  },
  {
   "cell_type": "code",
   "execution_count": 32,
   "id": "9cd81941-8d59-44ee-b28e-0fe3f3c41b03",
   "metadata": {},
   "outputs": [
    {
     "name": "stdout",
     "output_type": "stream",
     "text": [
      "0\n",
      "1\n",
      "1\n",
      "2\n",
      "3\n",
      "5\n"
     ]
    }
   ],
   "source": [
    "#fibanacii sequence\n",
    "v1=0\n",
    "v2=1\n",
    "print(v1)\n",
    "print(v2)\n",
    "for i in range (3,7):\n",
    "    v3=v1+v2\n",
    "    print(v3)\n",
    "    v1=v2\n",
    "    v2=v3"
   ]
  },
  {
   "cell_type": "code",
   "execution_count": 39,
   "id": "2d4b7b9e-b63c-41ea-a9f1-03f9c3efe7a5",
   "metadata": {},
   "outputs": [
    {
     "name": "stdout",
     "output_type": "stream",
     "text": [
      "the sum is 90\n"
     ]
    }
   ],
   "source": [
    "#sum of all numbers stored in list\n",
    "n=[2,3,4,66,7,8]\n",
    "sum=0\n",
    "for i in n:\n",
    "  sum=(sum+i)\n",
    "print(\"the sum is\",sum)"
   ]
  },
  {
   "cell_type": "code",
   "execution_count": 46,
   "id": "bebadc26-103d-46ff-9170-1a0ea9e47fdc",
   "metadata": {},
   "outputs": [
    {
     "name": "stdin",
     "output_type": "stream",
     "text": [
      "enter a num 10\n"
     ]
    },
    {
     "name": "stdout",
     "output_type": "stream",
     "text": [
      "3\n"
     ]
    }
   ],
   "source": [
    "#break statement\n",
    "n=int(input(\"enter a num\"))\n",
    "for i in range(1,n):\n",
    "    if(i==3):\n",
    "        print(i)\n",
    "        break"
   ]
  },
  {
   "cell_type": "code",
   "execution_count": 26,
   "id": "aad1eee6-187f-4b1e-8185-f666baf13c86",
   "metadata": {},
   "outputs": [
    {
     "name": "stdout",
     "output_type": "stream",
     "text": [
      "6\n"
     ]
    }
   ],
   "source": [
    "#it will get divider\n",
    "s:sum=0\n",
    "r=726%10\n",
    "print(r)"
   ]
  },
  {
   "cell_type": "code",
   "execution_count": 31,
   "id": "1b34fda2-bf70-4189-9219-821b8e3e6076",
   "metadata": {},
   "outputs": [
    {
     "name": "stdout",
     "output_type": "stream",
     "text": [
      "72\n"
     ]
    }
   ],
   "source": [
    "# it will get reaminder\n",
    "s1:sum=0\n",
    "r=726//10\n",
    "print(r)"
   ]
  },
  {
   "cell_type": "code",
   "execution_count": 38,
   "id": "522c2cc7-3986-4e4e-be1e-4f8d7fdbeea6",
   "metadata": {},
   "outputs": [
    {
     "name": "stdout",
     "output_type": "stream",
     "text": [
      "False\n"
     ]
    }
   ],
   "source": [
    "#logical operator and or no\n",
    "current = True\n",
    "ac = False\n",
    "remote = True\n",
    "outdoor = True\n",
    "working = current and ac and remote and outdoor\n",
    "print(working)"
   ]
  },
  {
   "cell_type": "code",
   "execution_count": 39,
   "id": "14114aea-ac1b-40e4-b1ad-e275f731a850",
   "metadata": {},
   "outputs": [
    {
     "name": "stdout",
     "output_type": "stream",
     "text": [
      "True\n"
     ]
    }
   ],
   "source": [
    "#logical operator and or no\n",
    "current = True\n",
    "ac = False\n",
    "remote = True\n",
    "outdoor = True\n",
    "working = current or ac or remote or outdoor\n",
    "print(working)"
   ]
  },
  {
   "cell_type": "code",
   "execution_count": 41,
   "id": "d062069e-3a63-4a5e-8145-e21efa3c799a",
   "metadata": {},
   "outputs": [
    {
     "name": "stdout",
     "output_type": "stream",
     "text": [
      "False\n",
      "True\n"
     ]
    }
   ],
   "source": [
    "#logical operator and or no\n",
    "a= True\n",
    "print(not a)\n",
    "b= False\n",
    "print(not b)"
   ]
  },
  {
   "cell_type": "code",
   "execution_count": 63,
   "id": "6f09f57a-2a03-4566-8222-a99adb1ee1a7",
   "metadata": {},
   "outputs": [
    {
     "name": "stdout",
     "output_type": "stream",
     "text": [
      "started travelling\n",
      "go to petrol bunk, leave petrol bunk\n",
      "Reached destination\n",
      "loverejected\n"
     ]
    }
   ],
   "source": [
    "#if code\n",
    "print(\"started travelling\")\n",
    "isfueltankempty= True\n",
    "if isfueltankempty == True:\n",
    "    print(\"go to petrol bunk, leave petrol bunk\")\n",
    "    print(\"Reached destination\")\n",
    "#ifelse\n",
    "loveaccepted = False\n",
    "if loveaccepted == True:\n",
    "  print(\"loveaccepted\")\n",
    "else:\n",
    "  print(\"loverejected\")\n"
   ]
  },
  {
   "cell_type": "code",
   "execution_count": 50,
   "id": "63de6430-e79f-4536-9617-be0b98821ae5",
   "metadata": {},
   "outputs": [
    {
     "name": "stdout",
     "output_type": "stream",
     "text": [
      "mark present\n"
     ]
    }
   ],
   "source": [
    "#if else\n",
    "studentpresent = True\n",
    "if studentpresent == True:\n",
    "  print(\"mark present\")\n",
    "else:\n",
    " print(\"mark absent\")"
   ]
  },
  {
   "cell_type": "code",
   "execution_count": 52,
   "id": "67561a19-af4b-446a-9841-173250c40702",
   "metadata": {},
   "outputs": [
    {
     "name": "stdout",
     "output_type": "stream",
     "text": [
      "i will travel train\n"
     ]
    }
   ],
   "source": [
    "#else if\n",
    "flightticket = False\n",
    "trainticket = True\n",
    "cab =True\n",
    "if flightticket:\n",
    "    print(\"i will travel flight\")\n",
    "elif trainticket:\n",
    "    print(\"i will travel train\")\n",
    "elif cab:\n",
    "    print(\"i will travel cab\")\n",
    "else:\n",
    "    print(\"i will stay home\")"
   ]
  },
  {
   "cell_type": "code",
   "execution_count": 55,
   "id": "d2f14529-0f3c-46a2-88c2-d944dfbe9993",
   "metadata": {},
   "outputs": [
    {
     "name": "stdout",
     "output_type": "stream",
     "text": [
      "eating apple\n",
      "eating bannana\n",
      "eating orange\n",
      "all fruits eaten\n"
     ]
    }
   ],
   "source": [
    "#loops for\n",
    "fruitbox = [\"apple\",\"bannana\",\"orange\"]\n",
    "for fruit in fruitbox:\n",
    "    print(\"eating\",fruit)\n",
    "    \n",
    "print(\"all fruits eaten\")"
   ]
  },
  {
   "cell_type": "code",
   "execution_count": 59,
   "id": "6f04352f-ece9-47fe-bb93-c40f5de9667a",
   "metadata": {},
   "outputs": [
    {
     "name": "stdout",
     "output_type": "stream",
     "text": [
      "round 1 completed\n",
      "round 2 completed\n",
      "round 3 completed\n",
      "round 4 completed\n",
      "round 5 completed\n",
      "all rounds completed\n"
     ]
    }
   ],
   "source": [
    "#while\n",
    "numberofrounds = 5\n",
    "roundcounter =1\n",
    "while roundcounter <= numberofrounds:\n",
    "   print(\"round\",roundcounter,\"completed\")\n",
    "   roundcounter +=1\n",
    "print(\"all rounds completed\")"
   ]
  },
  {
   "cell_type": "code",
   "execution_count": 60,
   "id": "0eced5ad-9a30-4eae-9778-886025eb522c",
   "metadata": {},
   "outputs": [
    {
     "name": "stdout",
     "output_type": "stream",
     "text": [
      "0\n",
      "1\n",
      "2\n",
      "3\n",
      "4\n"
     ]
    }
   ],
   "source": [
    "#range in for loop\n",
    "for i in range(5):\n",
    "    print(i)"
   ]
  },
  {
   "cell_type": "code",
   "execution_count": 62,
   "id": "86e5078f-5fc1-46e1-b288-470150f154d5",
   "metadata": {},
   "outputs": [
    {
     "name": "stdout",
     "output_type": "stream",
     "text": [
      "loverejected\n"
     ]
    }
   ],
   "source": [
    "#ifelse\n",
    "loveaccepted = False\n",
    "if loveaccepted == True:\n",
    "  print(\"loveaccepted\")\n",
    "else:\n",
    "  print(\"loverejected\")"
   ]
  },
  {
   "cell_type": "code",
   "execution_count": 79,
   "id": "f99c014b-e654-44b5-91c3-76ebe01cef54",
   "metadata": {},
   "outputs": [
    {
     "name": "stdout",
     "output_type": "stream",
     "text": [
      "eatingapple\n",
      "eatingmango\n",
      "going to school\n"
     ]
    }
   ],
   "source": [
    "#condtiotion is loop until get false we us break condition\n",
    "fruitbox= [\"apple\",\"mango\",\"grapes\"]\n",
    "for fruit in fruitbox:\n",
    "    print(\"eating\" + fruit)\n",
    "    if fruit == \"mango\":\n",
    "      break\n",
    "print(\"going to school\")\n"
   ]
  },
  {
   "cell_type": "code",
   "execution_count": 85,
   "id": "d3e33487-677d-43d8-8fcb-a42e77db3445",
   "metadata": {},
   "outputs": [
    {
     "name": "stdout",
     "output_type": "stream",
     "text": [
      "eatingapple\n",
      "eatinggrapes\n",
      "going to school\n"
     ]
    }
   ],
   "source": [
    "#continue\n",
    "fruitbox= [\"apple\",\"mango\",\"grapes\"]\n",
    "for fruit in fruitbox:\n",
    "  if (fruit == \"mango\"):\n",
    "    continue\n",
    "  print(\"eating\" + fruit)\n",
    "print(\"going to school\")"
   ]
  },
  {
   "cell_type": "code",
   "execution_count": null,
   "id": "e0f0beb0-4ba4-411d-88d5-ca80b29766a9",
   "metadata": {},
   "outputs": [],
   "source": []
  }
 ],
 "metadata": {
  "kernelspec": {
   "display_name": "anaconda-panel-2023.05-py310",
   "language": "python",
   "name": "conda-env-anaconda-panel-2023.05-py310-py"
  },
  "language_info": {
   "codemirror_mode": {
    "name": "ipython",
    "version": 3
   },
   "file_extension": ".py",
   "mimetype": "text/x-python",
   "name": "python",
   "nbconvert_exporter": "python",
   "pygments_lexer": "ipython3",
   "version": "3.11.5"
  }
 },
 "nbformat": 4,
 "nbformat_minor": 5
}
