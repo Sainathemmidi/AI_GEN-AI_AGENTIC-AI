{
 "cells": [
  {
   "cell_type": "code",
   "execution_count": 61,
   "id": "15c7b46a-27a9-429e-8c92-1c62b61abb56",
   "metadata": {},
   "outputs": [],
   "source": [
    "import pandas as pd\n",
    "import matplotlib.pyplot as plot\n",
    "#import python libararies"
   ]
  },
  {
   "cell_type": "code",
   "execution_count": 62,
   "id": "eb42b68c-7e15-47fd-a5bc-6f7f175700c1",
   "metadata": {},
   "outputs": [
    {
     "data": {
      "text/html": [
       "<div>\n",
       "<style scoped>\n",
       "    .dataframe tbody tr th:only-of-type {\n",
       "        vertical-align: middle;\n",
       "    }\n",
       "\n",
       "    .dataframe tbody tr th {\n",
       "        vertical-align: top;\n",
       "    }\n",
       "\n",
       "    .dataframe thead th {\n",
       "        text-align: right;\n",
       "    }\n",
       "</style>\n",
       "<table border=\"1\" class=\"dataframe\">\n",
       "  <thead>\n",
       "    <tr style=\"text-align: right;\">\n",
       "      <th></th>\n",
       "      <th>team_name</th>\n",
       "      <th>team_name_short</th>\n",
       "      <th>team_id</th>\n",
       "      <th>team_id_pfr</th>\n",
       "      <th>team_conference</th>\n",
       "      <th>team_division</th>\n",
       "      <th>team_conference_pre2002</th>\n",
       "      <th>team_division_pre2002</th>\n",
       "    </tr>\n",
       "  </thead>\n",
       "  <tbody>\n",
       "    <tr>\n",
       "      <th>0</th>\n",
       "      <td>Arizona Cardinals</td>\n",
       "      <td>Cardinals</td>\n",
       "      <td>ARI</td>\n",
       "      <td>CRD</td>\n",
       "      <td>NFC</td>\n",
       "      <td>NFC West</td>\n",
       "      <td>NFC</td>\n",
       "      <td>NFC West</td>\n",
       "    </tr>\n",
       "    <tr>\n",
       "      <th>1</th>\n",
       "      <td>Atlanta Falcons</td>\n",
       "      <td>Falcons</td>\n",
       "      <td>ATL</td>\n",
       "      <td>ATL</td>\n",
       "      <td>NFC</td>\n",
       "      <td>NFC South</td>\n",
       "      <td>NFC</td>\n",
       "      <td>NFC West</td>\n",
       "    </tr>\n",
       "    <tr>\n",
       "      <th>2</th>\n",
       "      <td>Baltimore Colts</td>\n",
       "      <td>Colts</td>\n",
       "      <td>IND</td>\n",
       "      <td>CLT</td>\n",
       "      <td>AFC</td>\n",
       "      <td>NaN</td>\n",
       "      <td>AFC</td>\n",
       "      <td>AFC East</td>\n",
       "    </tr>\n",
       "    <tr>\n",
       "      <th>3</th>\n",
       "      <td>Baltimore Ravens</td>\n",
       "      <td>Ravens</td>\n",
       "      <td>BAL</td>\n",
       "      <td>RAV</td>\n",
       "      <td>AFC</td>\n",
       "      <td>AFC North</td>\n",
       "      <td>AFC</td>\n",
       "      <td>AFC Central</td>\n",
       "    </tr>\n",
       "    <tr>\n",
       "      <th>4</th>\n",
       "      <td>Boston Patriots</td>\n",
       "      <td>Patriots</td>\n",
       "      <td>NE</td>\n",
       "      <td>NWE</td>\n",
       "      <td>AFC</td>\n",
       "      <td>NaN</td>\n",
       "      <td>AFC</td>\n",
       "      <td>NaN</td>\n",
       "    </tr>\n",
       "  </tbody>\n",
       "</table>\n",
       "</div>"
      ],
      "text/plain": [
       "           team_name team_name_short team_id team_id_pfr team_conference  \\\n",
       "0  Arizona Cardinals       Cardinals     ARI         CRD             NFC   \n",
       "1    Atlanta Falcons         Falcons     ATL         ATL             NFC   \n",
       "2    Baltimore Colts           Colts     IND         CLT             AFC   \n",
       "3   Baltimore Ravens          Ravens     BAL         RAV             AFC   \n",
       "4    Boston Patriots        Patriots      NE         NWE             AFC   \n",
       "\n",
       "  team_division team_conference_pre2002 team_division_pre2002  \n",
       "0      NFC West                     NFC              NFC West  \n",
       "1     NFC South                     NFC              NFC West  \n",
       "2           NaN                     AFC              AFC East  \n",
       "3     AFC North                     AFC           AFC Central  \n",
       "4           NaN                     AFC                   NaN  "
      ]
     },
     "execution_count": 62,
     "metadata": {},
     "output_type": "execute_result"
    }
   ],
   "source": [
    "nf=pd.read_csv(\"nfl_teams.csv\")\n",
    "nf.head()\n",
    "#read and get all the data"
   ]
  },
  {
   "cell_type": "code",
   "execution_count": 63,
   "id": "1a190fc0-6229-45bd-a1e5-eeb97365428b",
   "metadata": {},
   "outputs": [
    {
     "data": {
      "text/plain": [
       "'Atlanta Falcons'"
      ]
     },
     "execution_count": 63,
     "metadata": {},
     "output_type": "execute_result"
    }
   ],
   "source": [
    "nf.loc[1,\"team_name\"]\n",
    "#we can find  at particular location"
   ]
  },
  {
   "cell_type": "code",
   "execution_count": 64,
   "id": "f32e36c7-9e65-4310-b52e-7db9e95923b6",
   "metadata": {},
   "outputs": [
    {
     "data": {
      "text/html": [
       "<div>\n",
       "<style scoped>\n",
       "    .dataframe tbody tr th:only-of-type {\n",
       "        vertical-align: middle;\n",
       "    }\n",
       "\n",
       "    .dataframe tbody tr th {\n",
       "        vertical-align: top;\n",
       "    }\n",
       "\n",
       "    .dataframe thead th {\n",
       "        text-align: right;\n",
       "    }\n",
       "</style>\n",
       "<table border=\"1\" class=\"dataframe\">\n",
       "  <thead>\n",
       "    <tr style=\"text-align: right;\">\n",
       "      <th></th>\n",
       "      <th>team_name</th>\n",
       "      <th>team_name_short</th>\n",
       "      <th>team_id</th>\n",
       "      <th>team_id_pfr</th>\n",
       "      <th>team_conference</th>\n",
       "      <th>team_division</th>\n",
       "      <th>team_conference_pre2002</th>\n",
       "      <th>team_division_pre2002</th>\n",
       "    </tr>\n",
       "  </thead>\n",
       "  <tbody>\n",
       "    <tr>\n",
       "      <th>0</th>\n",
       "      <td>Arizona Cardinals</td>\n",
       "      <td>Cardinals</td>\n",
       "      <td>ARI</td>\n",
       "      <td>CRD</td>\n",
       "      <td>NFC</td>\n",
       "      <td>NFC West</td>\n",
       "      <td>NFC</td>\n",
       "      <td>NFC West</td>\n",
       "    </tr>\n",
       "    <tr>\n",
       "      <th>1</th>\n",
       "      <td>Atlanta Falcons</td>\n",
       "      <td>Falcons</td>\n",
       "      <td>ATL</td>\n",
       "      <td>ATL</td>\n",
       "      <td>NFC</td>\n",
       "      <td>NFC South</td>\n",
       "      <td>NFC</td>\n",
       "      <td>NFC West</td>\n",
       "    </tr>\n",
       "    <tr>\n",
       "      <th>2</th>\n",
       "      <td>Baltimore Colts</td>\n",
       "      <td>Colts</td>\n",
       "      <td>IND</td>\n",
       "      <td>CLT</td>\n",
       "      <td>AFC</td>\n",
       "      <td>NaN</td>\n",
       "      <td>AFC</td>\n",
       "      <td>AFC East</td>\n",
       "    </tr>\n",
       "    <tr>\n",
       "      <th>3</th>\n",
       "      <td>Baltimore Ravens</td>\n",
       "      <td>Ravens</td>\n",
       "      <td>BAL</td>\n",
       "      <td>RAV</td>\n",
       "      <td>AFC</td>\n",
       "      <td>AFC North</td>\n",
       "      <td>AFC</td>\n",
       "      <td>AFC Central</td>\n",
       "    </tr>\n",
       "  </tbody>\n",
       "</table>\n",
       "</div>"
      ],
      "text/plain": [
       "           team_name team_name_short team_id team_id_pfr team_conference  \\\n",
       "0  Arizona Cardinals       Cardinals     ARI         CRD             NFC   \n",
       "1    Atlanta Falcons         Falcons     ATL         ATL             NFC   \n",
       "2    Baltimore Colts           Colts     IND         CLT             AFC   \n",
       "3   Baltimore Ravens          Ravens     BAL         RAV             AFC   \n",
       "\n",
       "  team_division team_conference_pre2002 team_division_pre2002  \n",
       "0      NFC West                     NFC              NFC West  \n",
       "1     NFC South                     NFC              NFC West  \n",
       "2           NaN                     AFC              AFC East  \n",
       "3     AFC North                     AFC           AFC Central  "
      ]
     },
     "execution_count": 64,
     "metadata": {},
     "output_type": "execute_result"
    }
   ],
   "source": [
    "nf.loc[:3]\n",
    "#we can get 0 to 3 tables of data with the id"
   ]
  },
  {
   "cell_type": "code",
   "execution_count": 65,
   "id": "ca594c97-f406-4590-9366-86ae8b7a5889",
   "metadata": {},
   "outputs": [
    {
     "data": {
      "text/html": [
       "<div>\n",
       "<style scoped>\n",
       "    .dataframe tbody tr th:only-of-type {\n",
       "        vertical-align: middle;\n",
       "    }\n",
       "\n",
       "    .dataframe tbody tr th {\n",
       "        vertical-align: top;\n",
       "    }\n",
       "\n",
       "    .dataframe thead th {\n",
       "        text-align: right;\n",
       "    }\n",
       "</style>\n",
       "<table border=\"1\" class=\"dataframe\">\n",
       "  <thead>\n",
       "    <tr style=\"text-align: right;\">\n",
       "      <th></th>\n",
       "      <th>team_name</th>\n",
       "      <th>team_name_short</th>\n",
       "      <th>team_id</th>\n",
       "      <th>team_id_pfr</th>\n",
       "      <th>team_conference</th>\n",
       "      <th>team_division</th>\n",
       "      <th>team_conference_pre2002</th>\n",
       "      <th>team_division_pre2002</th>\n",
       "    </tr>\n",
       "  </thead>\n",
       "  <tbody>\n",
       "    <tr>\n",
       "      <th>0</th>\n",
       "      <td>Arizona Cardinals</td>\n",
       "      <td>Cardinals</td>\n",
       "      <td>ARI</td>\n",
       "      <td>CRD</td>\n",
       "      <td>NFC</td>\n",
       "      <td>NFC West</td>\n",
       "      <td>NFC</td>\n",
       "      <td>NFC West</td>\n",
       "    </tr>\n",
       "    <tr>\n",
       "      <th>1</th>\n",
       "      <td>Atlanta Falcons</td>\n",
       "      <td>Falcons</td>\n",
       "      <td>ATL</td>\n",
       "      <td>ATL</td>\n",
       "      <td>NFC</td>\n",
       "      <td>NFC South</td>\n",
       "      <td>NFC</td>\n",
       "      <td>NFC West</td>\n",
       "    </tr>\n",
       "    <tr>\n",
       "      <th>2</th>\n",
       "      <td>Baltimore Colts</td>\n",
       "      <td>Colts</td>\n",
       "      <td>IND</td>\n",
       "      <td>CLT</td>\n",
       "      <td>AFC</td>\n",
       "      <td>NaN</td>\n",
       "      <td>AFC</td>\n",
       "      <td>AFC East</td>\n",
       "    </tr>\n",
       "  </tbody>\n",
       "</table>\n",
       "</div>"
      ],
      "text/plain": [
       "           team_name team_name_short team_id team_id_pfr team_conference  \\\n",
       "0  Arizona Cardinals       Cardinals     ARI         CRD             NFC   \n",
       "1    Atlanta Falcons         Falcons     ATL         ATL             NFC   \n",
       "2    Baltimore Colts           Colts     IND         CLT             AFC   \n",
       "\n",
       "  team_division team_conference_pre2002 team_division_pre2002  \n",
       "0      NFC West                     NFC              NFC West  \n",
       "1     NFC South                     NFC              NFC West  \n",
       "2           NaN                     AFC              AFC East  "
      ]
     },
     "execution_count": 65,
     "metadata": {},
     "output_type": "execute_result"
    }
   ],
   "source": [
    "nf[:3]\n",
    "#it would get only 1st 3 coloums in the given data"
   ]
  },
  {
   "cell_type": "code",
   "execution_count": 66,
   "id": "f7e07a67-f189-4022-a460-0a905c87480c",
   "metadata": {},
   "outputs": [
    {
     "data": {
      "text/plain": [
       "0    NFC\n",
       "1    NFC\n",
       "2    AFC\n",
       "Name: team_conference_pre2002, dtype: object"
      ]
     },
     "execution_count": 66,
     "metadata": {},
     "output_type": "execute_result"
    }
   ],
   "source": [
    "nf['team_conference_pre2002'].head(3)\n",
    "#it would get the data where 1st  tables in team conference"
   ]
  },
  {
   "cell_type": "code",
   "execution_count": 67,
   "id": "6ce87f8c-2aef-4788-ae33-cb2135ec3850",
   "metadata": {},
   "outputs": [
    {
     "name": "stdout",
     "output_type": "stream",
     "text": [
      "Index(['team_name', 'team_name_short', 'team_id', 'team_id_pfr',\n",
      "       'team_conference', 'team_division', 'team_conference_pre2002',\n",
      "       'team_division_pre2002'],\n",
      "      dtype='object')\n"
     ]
    }
   ],
   "source": [
    "nf.columns = [col.replace('team_name ', 'team_name_short').lower() for col in nf.columns]\n",
    "print(nf.columns)\n",
    "#it would get the index data with exclamatory replacing the index"
   ]
  },
  {
   "cell_type": "code",
   "execution_count": 68,
   "id": "194e0a8b-5dc1-42c3-a2d3-b957c1d874f4",
   "metadata": {},
   "outputs": [
    {
     "data": {
      "text/plain": [
       "2    Colts\n",
       "Name: team_name_short, dtype: object"
      ]
     },
     "execution_count": 68,
     "metadata": {},
     "output_type": "execute_result"
    }
   ],
   "source": [
    "nf.team_name_short.iloc[[2]]\n",
    "#we can find team locaion with the number 2"
   ]
  },
  {
   "cell_type": "code",
   "execution_count": 69,
   "id": "da0bec78-a09c-4430-b8d4-085529d0eddd",
   "metadata": {},
   "outputs": [
    {
     "data": {
      "text/plain": [
       "0    False\n",
       "1    False\n",
       "2    False\n",
       "Name: team_name_short, dtype: bool"
      ]
     },
     "execution_count": 69,
     "metadata": {},
     "output_type": "execute_result"
    }
   ],
   "source": [
    "(nf.team_name_short == 'UT').head(3)"
   ]
  },
  {
   "cell_type": "code",
   "execution_count": 70,
   "id": "3110828c-877c-4984-ab93-1a5971cd8193",
   "metadata": {},
   "outputs": [
    {
     "data": {
      "text/html": [
       "<div>\n",
       "<style scoped>\n",
       "    .dataframe tbody tr th:only-of-type {\n",
       "        vertical-align: middle;\n",
       "    }\n",
       "\n",
       "    .dataframe tbody tr th {\n",
       "        vertical-align: top;\n",
       "    }\n",
       "\n",
       "    .dataframe thead th {\n",
       "        text-align: right;\n",
       "    }\n",
       "</style>\n",
       "<table border=\"1\" class=\"dataframe\">\n",
       "  <thead>\n",
       "    <tr style=\"text-align: right;\">\n",
       "      <th></th>\n",
       "      <th>team_name</th>\n",
       "      <th>team_name_short</th>\n",
       "      <th>team_id</th>\n",
       "      <th>team_id_pfr</th>\n",
       "      <th>team_conference</th>\n",
       "      <th>team_division</th>\n",
       "      <th>team_conference_pre2002</th>\n",
       "      <th>team_division_pre2002</th>\n",
       "    </tr>\n",
       "  </thead>\n",
       "  <tbody>\n",
       "  </tbody>\n",
       "</table>\n",
       "</div>"
      ],
      "text/plain": [
       "Empty DataFrame\n",
       "Columns: [team_name, team_name_short, team_id, team_id_pfr, team_conference, team_division, team_conference_pre2002, team_division_pre2002]\n",
       "Index: []"
      ]
     },
     "execution_count": 70,
     "metadata": {},
     "output_type": "execute_result"
    }
   ],
   "source": [
    "nf[nf['team_name_short'].str.split().apply(lambda x: len(x) == 3)].head(3)\n",
    "#getting index "
   ]
  },
  {
   "cell_type": "code",
   "execution_count": 71,
   "id": "87139e7c-fcc5-47e2-9b40-7a87f3c07a07",
   "metadata": {},
   "outputs": [
    {
     "data": {
      "text/plain": [
       "0    Cardinals\n",
       "1      Falcons\n",
       "2        Colts\n",
       "Name: team_name_short, dtype: object"
      ]
     },
     "execution_count": 71,
     "metadata": {},
     "output_type": "execute_result"
    }
   ],
   "source": [
    "nf['team_name_short'].head(3)"
   ]
  },
  {
   "cell_type": "code",
   "execution_count": 72,
   "id": "80ed7773-83c6-41b9-847e-569cad043cd9",
   "metadata": {},
   "outputs": [
    {
     "data": {
      "text/html": [
       "<div>\n",
       "<style scoped>\n",
       "    .dataframe tbody tr th:only-of-type {\n",
       "        vertical-align: middle;\n",
       "    }\n",
       "\n",
       "    .dataframe tbody tr th {\n",
       "        vertical-align: top;\n",
       "    }\n",
       "\n",
       "    .dataframe thead th {\n",
       "        text-align: right;\n",
       "    }\n",
       "</style>\n",
       "<table border=\"1\" class=\"dataframe\">\n",
       "  <thead>\n",
       "    <tr style=\"text-align: right;\">\n",
       "      <th></th>\n",
       "      <th>team_name</th>\n",
       "      <th>team_name_short</th>\n",
       "      <th>team_id</th>\n",
       "      <th>team_id_pfr</th>\n",
       "      <th>team_conference</th>\n",
       "      <th>team_division</th>\n",
       "      <th>team_conference_pre2002</th>\n",
       "      <th>team_division_pre2002</th>\n",
       "    </tr>\n",
       "  </thead>\n",
       "  <tbody>\n",
       "    <tr>\n",
       "      <th>0</th>\n",
       "      <td>Arizona Cardinals</td>\n",
       "      <td>Cardinals</td>\n",
       "      <td>ARI</td>\n",
       "      <td>CRD</td>\n",
       "      <td>NFC</td>\n",
       "      <td>NFC West</td>\n",
       "      <td>NFC</td>\n",
       "      <td>NFC West</td>\n",
       "    </tr>\n",
       "    <tr>\n",
       "      <th>1</th>\n",
       "      <td>Atlanta Falcons</td>\n",
       "      <td>Falcons</td>\n",
       "      <td>ATL</td>\n",
       "      <td>ATL</td>\n",
       "      <td>NFC</td>\n",
       "      <td>NFC South</td>\n",
       "      <td>NFC</td>\n",
       "      <td>NFC West</td>\n",
       "    </tr>\n",
       "    <tr>\n",
       "      <th>2</th>\n",
       "      <td>Baltimore Colts</td>\n",
       "      <td>Colts</td>\n",
       "      <td>IND</td>\n",
       "      <td>CLT</td>\n",
       "      <td>AFC</td>\n",
       "      <td>NaN</td>\n",
       "      <td>AFC</td>\n",
       "      <td>AFC East</td>\n",
       "    </tr>\n",
       "    <tr>\n",
       "      <th>3</th>\n",
       "      <td>Baltimore Ravens</td>\n",
       "      <td>Ravens</td>\n",
       "      <td>BAL</td>\n",
       "      <td>RAV</td>\n",
       "      <td>AFC</td>\n",
       "      <td>AFC North</td>\n",
       "      <td>AFC</td>\n",
       "      <td>AFC Central</td>\n",
       "    </tr>\n",
       "    <tr>\n",
       "      <th>4</th>\n",
       "      <td>Boston Patriots</td>\n",
       "      <td>Patriots</td>\n",
       "      <td>NE</td>\n",
       "      <td>NWE</td>\n",
       "      <td>AFC</td>\n",
       "      <td>NaN</td>\n",
       "      <td>AFC</td>\n",
       "      <td>NaN</td>\n",
       "    </tr>\n",
       "  </tbody>\n",
       "</table>\n",
       "</div>"
      ],
      "text/plain": [
       "           team_name team_name_short team_id team_id_pfr team_conference  \\\n",
       "0  Arizona Cardinals       Cardinals     ARI         CRD             NFC   \n",
       "1    Atlanta Falcons         Falcons     ATL         ATL             NFC   \n",
       "2    Baltimore Colts           Colts     IND         CLT             AFC   \n",
       "3   Baltimore Ravens          Ravens     BAL         RAV             AFC   \n",
       "4    Boston Patriots        Patriots      NE         NWE             AFC   \n",
       "\n",
       "  team_division team_conference_pre2002 team_division_pre2002  \n",
       "0      NFC West                     NFC              NFC West  \n",
       "1     NFC South                     NFC              NFC West  \n",
       "2           NaN                     AFC              AFC East  \n",
       "3     AFC North                     AFC           AFC Central  \n",
       "4           NaN                     AFC                   NaN  "
      ]
     },
     "execution_count": 72,
     "metadata": {},
     "output_type": "execute_result"
    }
   ],
   "source": [
    "nf.head()"
   ]
  },
  {
   "cell_type": "code",
   "execution_count": 73,
   "id": "8ea3d361-9806-4571-a320-5bab790571ba",
   "metadata": {},
   "outputs": [
    {
     "data": {
      "text/plain": [
       "<bound method DataFrame.info of                    team_name team_name_short team_id team_id_pfr  \\\n",
       "0          Arizona Cardinals       Cardinals     ARI         CRD   \n",
       "1            Atlanta Falcons         Falcons     ATL         ATL   \n",
       "2            Baltimore Colts           Colts     IND         CLT   \n",
       "3           Baltimore Ravens          Ravens     BAL         RAV   \n",
       "4            Boston Patriots        Patriots      NE         NWE   \n",
       "5              Buffalo Bills           Bills     BUF         BUF   \n",
       "6          Carolina Panthers        Panthers     CAR         CAR   \n",
       "7              Chicago Bears           Bears     CHI         CHI   \n",
       "8         Cincinnati Bengals         Bengals     CIN         CIN   \n",
       "9           Cleveland Browns          Browns     CLE         CLE   \n",
       "10            Dallas Cowboys         Cowboys     DAL         DAL   \n",
       "11            Denver Broncos         Broncos     DEN         DEN   \n",
       "12             Detroit Lions           Lions     DET         DET   \n",
       "13         Green Bay Packers         Packers      GB         GNB   \n",
       "14            Houston Oilers          Oilers     TEN         OTI   \n",
       "15            Houston Texans          Texans     HOU         HTX   \n",
       "16        Indianapolis Colts           Colts     IND         CLT   \n",
       "17      Jacksonville Jaguars         Jaguars     JAX         JAX   \n",
       "18        Kansas City Chiefs          Chiefs      KC         KAN   \n",
       "19         Las Vegas Raiders         Raiders     LVR         RAI   \n",
       "20      Los Angeles Chargers        Chargers     LAC         SDG   \n",
       "21       Los Angeles Raiders         Raiders     LVR         RAI   \n",
       "22          Los Angeles Rams            Rams     LAR         RAM   \n",
       "23            Miami Dolphins        Dolphins     MIA         MIA   \n",
       "24         Minnesota Vikings         Vikings     MIN         MIN   \n",
       "25      New England Patriots        Patriots      NE         NWE   \n",
       "26        New Orleans Saints          Saints      NO         NOR   \n",
       "27           New York Giants          Giants     NYG         NYG   \n",
       "28             New York Jets            Jets     NYJ         NYJ   \n",
       "29           Oakland Raiders         Raiders     LVR         RAI   \n",
       "30       Philadelphia Eagles          Eagles     PHI         PHI   \n",
       "31         Phoenix Cardinals       Cardinals     ARI         CRD   \n",
       "32       Pittsburgh Steelers        Steelers     PIT         PIT   \n",
       "33        San Diego Chargers        Chargers     LAC         SDG   \n",
       "34       San Francisco 49ers           49ers      SF         SFO   \n",
       "35          Seattle Seahawks        Seahawks     SEA         SEA   \n",
       "36       St. Louis Cardinals       Cardinals     ARI         ARI   \n",
       "37            St. Louis Rams            Rams     LAR         RAM   \n",
       "38      Tampa Bay Buccaneers      Buccaneers      TB         TAM   \n",
       "39          Tennessee Oilers          Oilers     TEN         OTI   \n",
       "40          Tennessee Titans          Titans     TEN         OTI   \n",
       "41     Washington Commanders      Washington     WAS         WAS   \n",
       "42  Washington Football Team      Washington     WAS         WAS   \n",
       "43       Washington Redskins      Washington     WAS         WAS   \n",
       "\n",
       "   team_conference team_division team_conference_pre2002 team_division_pre2002  \n",
       "0              NFC      NFC West                     NFC              NFC West  \n",
       "1              NFC     NFC South                     NFC              NFC West  \n",
       "2              AFC           NaN                     AFC              AFC East  \n",
       "3              AFC     AFC North                     AFC           AFC Central  \n",
       "4              AFC           NaN                     AFC                   NaN  \n",
       "5              AFC      AFC East                     AFC              AFC East  \n",
       "6              NFC     NFC South                     NFC              NFC West  \n",
       "7              NFC     NFC North                     NFC           NFC Central  \n",
       "8              AFC     AFC North                     AFC           AFC Central  \n",
       "9              AFC     AFC North                     AFC           AFC Central  \n",
       "10             NFC      NFC East                     NFC              NFC East  \n",
       "11             AFC      AFC West                     AFC              AFC West  \n",
       "12             NFC     NFC North                     NFC           NFC Central  \n",
       "13             NFC     NFC North                     NFC           NFC Central  \n",
       "14             AFC           NaN                     AFC           AFC Central  \n",
       "15             AFC     AFC South                     AFC                   NaN  \n",
       "16             AFC     AFC South                     AFC              AFC East  \n",
       "17             AFC     AFC South                     AFC           AFC Central  \n",
       "18             AFC      AFC West                     AFC              AFC West  \n",
       "19             AFC           NaN                     AFC              AFC West  \n",
       "20             AFC      AFC West                     AFC              AFC West  \n",
       "21             AFC           NaN                     AFC              AFC West  \n",
       "22             NFC      NFC West                     NFC              NFC West  \n",
       "23             AFC      AFC East                     AFC              AFC East  \n",
       "24             NFC     NFC North                     NFC           NFC Central  \n",
       "25             AFC      AFC East                     AFC              AFC East  \n",
       "26             NFC     NFC South                     NFC              NFC West  \n",
       "27             NFC      NFC East                     NFC              NFC East  \n",
       "28             NFC      AFC East                     NFC              AFC East  \n",
       "29             AFC      AFC West                     AFC              AFC West  \n",
       "30             NFC      NFC East                     NFC              NFC East  \n",
       "31             NFC           NaN                     NFC              NFC East  \n",
       "32             AFC     AFC North                     AFC           AFC Central  \n",
       "33             AFC      AFC West                     AFC              AFC West  \n",
       "34             NFC      NFC West                     NFC              NFC West  \n",
       "35             NFC      NFC West                     AFC              AFC West  \n",
       "36             NFC           NaN                     NFC              NFC East  \n",
       "37             NFC           NaN                     NFC              NFC West  \n",
       "38             NFC     NFC South                     NFC           NFC Central  \n",
       "39             AFC           NaN                     AFC           AFC Central  \n",
       "40             AFC     AFC South                     AFC           AFC Central  \n",
       "41             NFC      NFC East                     NFC              NFC East  \n",
       "42             NFC      NFC East                     NFC              NFC East  \n",
       "43             NFC      NFC East                     NFC              NFC East  >"
      ]
     },
     "execution_count": 73,
     "metadata": {},
     "output_type": "execute_result"
    }
   ],
   "source": [
    "nf.info"
   ]
  },
  {
   "cell_type": "code",
   "execution_count": 74,
   "id": "d1c08df0-69d9-4148-825f-0d11fef6800d",
   "metadata": {},
   "outputs": [
    {
     "data": {
      "text/html": [
       "<div>\n",
       "<style scoped>\n",
       "    .dataframe tbody tr th:only-of-type {\n",
       "        vertical-align: middle;\n",
       "    }\n",
       "\n",
       "    .dataframe tbody tr th {\n",
       "        vertical-align: top;\n",
       "    }\n",
       "\n",
       "    .dataframe thead th {\n",
       "        text-align: right;\n",
       "    }\n",
       "</style>\n",
       "<table border=\"1\" class=\"dataframe\">\n",
       "  <thead>\n",
       "    <tr style=\"text-align: right;\">\n",
       "      <th></th>\n",
       "      <th>team_name</th>\n",
       "      <th>team_name_short</th>\n",
       "      <th>team_id</th>\n",
       "      <th>team_id_pfr</th>\n",
       "      <th>team_conference</th>\n",
       "      <th>team_division</th>\n",
       "      <th>team_conference_pre2002</th>\n",
       "      <th>team_division_pre2002</th>\n",
       "    </tr>\n",
       "  </thead>\n",
       "  <tbody>\n",
       "    <tr>\n",
       "      <th>39</th>\n",
       "      <td>Tennessee Oilers</td>\n",
       "      <td>Oilers</td>\n",
       "      <td>TEN</td>\n",
       "      <td>OTI</td>\n",
       "      <td>AFC</td>\n",
       "      <td>NaN</td>\n",
       "      <td>AFC</td>\n",
       "      <td>AFC Central</td>\n",
       "    </tr>\n",
       "    <tr>\n",
       "      <th>40</th>\n",
       "      <td>Tennessee Titans</td>\n",
       "      <td>Titans</td>\n",
       "      <td>TEN</td>\n",
       "      <td>OTI</td>\n",
       "      <td>AFC</td>\n",
       "      <td>AFC South</td>\n",
       "      <td>AFC</td>\n",
       "      <td>AFC Central</td>\n",
       "    </tr>\n",
       "    <tr>\n",
       "      <th>41</th>\n",
       "      <td>Washington Commanders</td>\n",
       "      <td>Washington</td>\n",
       "      <td>WAS</td>\n",
       "      <td>WAS</td>\n",
       "      <td>NFC</td>\n",
       "      <td>NFC East</td>\n",
       "      <td>NFC</td>\n",
       "      <td>NFC East</td>\n",
       "    </tr>\n",
       "    <tr>\n",
       "      <th>42</th>\n",
       "      <td>Washington Football Team</td>\n",
       "      <td>Washington</td>\n",
       "      <td>WAS</td>\n",
       "      <td>WAS</td>\n",
       "      <td>NFC</td>\n",
       "      <td>NFC East</td>\n",
       "      <td>NFC</td>\n",
       "      <td>NFC East</td>\n",
       "    </tr>\n",
       "    <tr>\n",
       "      <th>43</th>\n",
       "      <td>Washington Redskins</td>\n",
       "      <td>Washington</td>\n",
       "      <td>WAS</td>\n",
       "      <td>WAS</td>\n",
       "      <td>NFC</td>\n",
       "      <td>NFC East</td>\n",
       "      <td>NFC</td>\n",
       "      <td>NFC East</td>\n",
       "    </tr>\n",
       "  </tbody>\n",
       "</table>\n",
       "</div>"
      ],
      "text/plain": [
       "                   team_name team_name_short team_id team_id_pfr  \\\n",
       "39          Tennessee Oilers          Oilers     TEN         OTI   \n",
       "40          Tennessee Titans          Titans     TEN         OTI   \n",
       "41     Washington Commanders      Washington     WAS         WAS   \n",
       "42  Washington Football Team      Washington     WAS         WAS   \n",
       "43       Washington Redskins      Washington     WAS         WAS   \n",
       "\n",
       "   team_conference team_division team_conference_pre2002 team_division_pre2002  \n",
       "39             AFC           NaN                     AFC           AFC Central  \n",
       "40             AFC     AFC South                     AFC           AFC Central  \n",
       "41             NFC      NFC East                     NFC              NFC East  \n",
       "42             NFC      NFC East                     NFC              NFC East  \n",
       "43             NFC      NFC East                     NFC              NFC East  "
      ]
     },
     "execution_count": 74,
     "metadata": {},
     "output_type": "execute_result"
    }
   ],
   "source": [
    "nf.tail()"
   ]
  },
  {
   "cell_type": "code",
   "execution_count": 75,
   "id": "6a967ff4-9bfb-47ba-919b-8e5ed8c707e8",
   "metadata": {},
   "outputs": [
    {
     "data": {
      "text/plain": [
       "0            Arizona Cardinals\n",
       "1              Atlanta Falcons\n",
       "2              Baltimore Colts\n",
       "3             Baltimore Ravens\n",
       "4              Boston Patriots\n",
       "5                Buffalo Bills\n",
       "6            Carolina Panthers\n",
       "7                Chicago Bears\n",
       "8           Cincinnati Bengals\n",
       "9             Cleveland Browns\n",
       "10              Dallas Cowboys\n",
       "11              Denver Broncos\n",
       "12               Detroit Lions\n",
       "13           Green Bay Packers\n",
       "14              Houston Oilers\n",
       "15              Houston Texans\n",
       "16          Indianapolis Colts\n",
       "17        Jacksonville Jaguars\n",
       "18          Kansas City Chiefs\n",
       "19           Las Vegas Raiders\n",
       "20        Los Angeles Chargers\n",
       "21         Los Angeles Raiders\n",
       "22            Los Angeles Rams\n",
       "23              Miami Dolphins\n",
       "24           Minnesota Vikings\n",
       "25        New England Patriots\n",
       "26          New Orleans Saints\n",
       "27             New York Giants\n",
       "28               New York Jets\n",
       "29             Oakland Raiders\n",
       "30         Philadelphia Eagles\n",
       "31           Phoenix Cardinals\n",
       "32         Pittsburgh Steelers\n",
       "33          San Diego Chargers\n",
       "34         San Francisco 49ers\n",
       "35            Seattle Seahawks\n",
       "36         St. Louis Cardinals\n",
       "37              St. Louis Rams\n",
       "38        Tampa Bay Buccaneers\n",
       "39            Tennessee Oilers\n",
       "40            Tennessee Titans\n",
       "41       Washington Commanders\n",
       "42    Washington Football Team\n",
       "43         Washington Redskins\n",
       "Name: team_name, dtype: object"
      ]
     },
     "execution_count": 75,
     "metadata": {},
     "output_type": "execute_result"
    }
   ],
   "source": [
    "nf.team_name"
   ]
  },
  {
   "cell_type": "code",
   "execution_count": 79,
   "id": "30b2df57-57fb-49cb-86b6-4b1a3c6dee5c",
   "metadata": {},
   "outputs": [
    {
     "data": {
      "text/plain": [
       "'Buffalo Bills'"
      ]
     },
     "execution_count": 79,
     "metadata": {},
     "output_type": "execute_result"
    }
   ],
   "source": [
    "nf=nf.team_name[5]"
   ]
  },
  {
   "cell_type": "code",
   "execution_count": null,
   "id": "87ae5880-5024-4982-aec9-a02df18eaed0",
   "metadata": {},
   "outputs": [],
   "source": []
  }
 ],
 "metadata": {
  "kernelspec": {
   "display_name": "anaconda-2024.02-py310",
   "language": "python",
   "name": "conda-env-anaconda-2024.02-py310-py"
  },
  "language_info": {
   "codemirror_mode": {
    "name": "ipython",
    "version": 3
   },
   "file_extension": ".py",
   "mimetype": "text/x-python",
   "name": "python",
   "nbconvert_exporter": "python",
   "pygments_lexer": "ipython3",
   "version": "3.10.14"
  }
 },
 "nbformat": 4,
 "nbformat_minor": 5
}
