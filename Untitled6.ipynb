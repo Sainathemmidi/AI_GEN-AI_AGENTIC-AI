{
 "cells": [
  {
   "cell_type": "code",
   "execution_count": 1,
   "id": "62ee6276-cd52-4c56-97f4-b0842a3b5aa0",
   "metadata": {},
   "outputs": [
    {
     "name": "stdout",
     "output_type": "stream",
     "text": [
      "5\n"
     ]
    }
   ],
   "source": [
    "x=5\n",
    "print(x)"
   ]
  },
  {
   "cell_type": "code",
   "execution_count": 2,
   "id": "b3f70e3c-dde2-43f6-946e-cf9c70b214ee",
   "metadata": {},
   "outputs": [
    {
     "name": "stdout",
     "output_type": "stream",
     "text": [
      "4\n",
      "<class 'int'>\n"
     ]
    }
   ],
   "source": [
    "x=4\n",
    "print(x)\n",
    "print(type(x))"
   ]
  },
  {
   "cell_type": "code",
   "execution_count": 3,
   "id": "2496e22f-3660-4e33-b788-b209064954de",
   "metadata": {},
   "outputs": [
    {
     "name": "stdout",
     "output_type": "stream",
     "text": [
      "4.5\n",
      "<class 'float'>\n"
     ]
    }
   ],
   "source": [
    "x=4.5\n",
    "print(x)\n",
    "print(type(x))"
   ]
  },
  {
   "cell_type": "code",
   "execution_count": 5,
   "id": "fabe7ce8-130b-456f-b6aa-fbb9c80de026",
   "metadata": {},
   "outputs": [
    {
     "name": "stdout",
     "output_type": "stream",
     "text": [
      "sainath\n",
      "<class 'str'>\n"
     ]
    }
   ],
   "source": [
    "x=(\"sainath\")\n",
    "print(x)\n",
    "print(type(x))"
   ]
  },
  {
   "cell_type": "code",
   "execution_count": 6,
   "id": "a9f4280c-9283-4a20-b71b-b29116d7254b",
   "metadata": {},
   "outputs": [
    {
     "name": "stdout",
     "output_type": "stream",
     "text": [
      "i\n",
      "<class 'str'>\n"
     ]
    }
   ],
   "source": [
    "x=(\"sainath\")\n",
    "print(x[2])\n",
    "print(type(x))"
   ]
  },
  {
   "cell_type": "code",
   "execution_count": 16,
   "id": "020294ec-12ce-4d3d-97c9-5eb5e853127e",
   "metadata": {},
   "outputs": [
    {
     "name": "stdout",
     "output_type": "stream",
     "text": [
      "emmidi\n",
      "<class 'tuple'>\n"
     ]
    }
   ],
   "source": [
    "t=(\"sainath\",\"emmidi\")\n",
    "print(t[1])\n",
    "print(type(t))"
   ]
  },
  {
   "cell_type": "code",
   "execution_count": 11,
   "id": "7e326ca5-3f58-4abf-9d9f-8de48d90ff3e",
   "metadata": {},
   "outputs": [
    {
     "name": "stdout",
     "output_type": "stream",
     "text": [
      "{'sainath'}\n",
      "<class 'set'>\n"
     ]
    }
   ],
   "source": [
    "d={\"sainath\"}\n",
    "print(d)\n",
    "print(type(d))"
   ]
  },
  {
   "cell_type": "code",
   "execution_count": 15,
   "id": "44482f57-5676-4c88-a58a-5e8f5dea5195",
   "metadata": {},
   "outputs": [
    {
     "name": "stdout",
     "output_type": "stream",
     "text": [
      "['sainath']\n",
      "<class 'list'>\n"
     ]
    }
   ],
   "source": [
    "l=[\"sainath\"]\n",
    "print(l)\n",
    "print(type(l))"
   ]
  },
  {
   "cell_type": "code",
   "execution_count": 37,
   "id": "1aded6cb-c0ba-4c48-b931-06ec5d2f8617",
   "metadata": {},
   "outputs": [
    {
     "name": "stdout",
     "output_type": "stream",
     "text": [
      "Set with the use of List:  ('sainath', 'emmidi')\n",
      "<class 'tuple'>\n"
     ]
    }
   ],
   "source": [
    "s=(\"sainath\",\"emmidi\")\n",
    "print(\"Set with the use of List: \" , s)\n",
    "\n",
    "print(type(s))"
   ]
  },
  {
   "cell_type": "code",
   "execution_count": 36,
   "id": "8fcd47e0-76b8-4af0-8969-e4bffb1c1b09",
   "metadata": {},
   "outputs": [
    {
     "name": "stdout",
     "output_type": "stream",
     "text": [
      "Set with the use of String:  ('sainath', 'emmidi')\n",
      "<class 'tuple'>\n"
     ]
    }
   ],
   "source": [
    "s=(\"sainath\",\"emmidi\")\n",
    "print(\"Set with the use of String: \" , s)\n",
    "print(type(s))"
   ]
  },
  {
   "cell_type": "code",
   "execution_count": 35,
   "id": "f6233bd1-c92b-4c90-85fe-39dea5e74b33",
   "metadata": {},
   "outputs": [
    {
     "name": "stdout",
     "output_type": "stream",
     "text": [
      "Set with the use of String:  {'i', 's', 'e', 'm', 'h', 'a', 'd', 't', 'n'}\n",
      "<class 'set'>\n"
     ]
    }
   ],
   "source": [
    "s=set(\"sainathemmidi\")\n",
    "print(\"Set with the use of String: \" , s)\n",
    "\n",
    "print(type(s))"
   ]
  },
  {
   "cell_type": "code",
   "execution_count": 34,
   "id": "cde87fee-3b4f-4f28-bdc7-8af24378d257",
   "metadata": {},
   "outputs": [
    {
     "name": "stdout",
     "output_type": "stream",
     "text": [
      "Set with the use of List:  set['sainathemmidi']\n",
      "<class 'types.GenericAlias'>\n"
     ]
    }
   ],
   "source": [
    "s=set[\"sainathemmidi\"]\n",
    "print(\"Set with the use of List: \" , s)\n",
    "\n",
    "print(type(s))\n"
   ]
  },
  {
   "cell_type": "code",
   "execution_count": 68,
   "id": "be2941f0-c0df-45e2-86a4-221beb8b3580",
   "metadata": {},
   "outputs": [
    {
     "name": "stdout",
     "output_type": "stream",
     "text": [
      "Set with the use of String:  {'sainathemmidi'}\n",
      "<class 'set'>\n"
     ]
    }
   ],
   "source": [
    "s=set({\"sainathemmidi\"})\n",
    "print(\"Set with the use of String: \" , s )\n",
    "print(type(s))"
   ]
  },
  {
   "cell_type": "code",
   "execution_count": 50,
   "id": "d10fd050-a1b6-4faf-9857-d02f33c66085",
   "metadata": {},
   "outputs": [
    {
     "name": "stdout",
     "output_type": "stream",
     "text": [
      "a less han b\n"
     ]
    }
   ],
   "source": [
    "a=6\n",
    "b=7\n",
    "if a>b:\n",
    "  print(\"a greater than b\")\n",
    "else:\n",
    "  print(\"a less han b\")\n",
    "    \n"
   ]
  },
  {
   "cell_type": "code",
   "execution_count": 54,
   "id": "7363ac0f-75c0-4ffe-9250-956814099859",
   "metadata": {},
   "outputs": [
    {
     "name": "stdout",
     "output_type": "stream",
     "text": [
      "True\n"
     ]
    }
   ],
   "source": [
    "a=6\n",
    "b=7\n",
    "if a>b:\n",
    "  print(bool(\"a greater than b\"))\n",
    "else:\n",
    "  print(bool(\"a less han b\"))"
   ]
  },
  {
   "cell_type": "code",
   "execution_count": 57,
   "id": "9f126f79-25c0-4c48-9a85-aeb41609bb3b",
   "metadata": {},
   "outputs": [
    {
     "name": "stdout",
     "output_type": "stream",
     "text": [
      "True\n"
     ]
    }
   ],
   "source": [
    "a=6\n",
    "b=7\n",
    "if a>b:\n",
    "  print(bool(\"a is less than b\"))\n",
    "else:\n",
    "    print(bool(\"a is greater than b\"))\n"
   ]
  },
  {
   "cell_type": "code",
   "execution_count": 58,
   "id": "dca7a295-4eff-491c-8655-2ba74963ce35",
   "metadata": {},
   "outputs": [
    {
     "name": "stdout",
     "output_type": "stream",
     "text": [
      "False\n"
     ]
    }
   ],
   "source": [
    "a=10\n",
    "b=15\n",
    "print(bool(a>b))"
   ]
  },
  {
   "cell_type": "code",
   "execution_count": 89,
   "id": "3acd5286-ff31-4a97-aa6c-c899af351ef2",
   "metadata": {},
   "outputs": [
    {
     "name": "stdout",
     "output_type": "stream",
     "text": [
      "{'first name': 'sainath', 'last name': 'emmidi'}\n",
      "<class 'dict'>\n"
     ]
    }
   ],
   "source": [
    "names={\n",
    "    \"first name\": \"sainath\",\n",
    "    \"last name\":  \"emmidi\"\n",
    "}\n",
    "print(names)\n",
    "print(type(names))\n"
   ]
  },
  {
   "cell_type": "code",
   "execution_count": null,
   "id": "83cb2b5f-06a3-4ce3-a00f-401025a85835",
   "metadata": {},
   "outputs": [],
   "source": []
  },
  {
   "cell_type": "code",
   "execution_count": null,
   "id": "44865e01-65b1-4cfe-bc68-91a16a36ed1c",
   "metadata": {},
   "outputs": [],
   "source": []
  }
 ],
 "metadata": {
  "kernelspec": {
   "display_name": "anaconda-panel-2023.05-py310",
   "language": "python",
   "name": "conda-env-anaconda-panel-2023.05-py310-py"
  },
  "language_info": {
   "codemirror_mode": {
    "name": "ipython",
    "version": 3
   },
   "file_extension": ".py",
   "mimetype": "text/x-python",
   "name": "python",
   "nbconvert_exporter": "python",
   "pygments_lexer": "ipython3",
   "version": "3.11.5"
  }
 },
 "nbformat": 4,
 "nbformat_minor": 5
}
