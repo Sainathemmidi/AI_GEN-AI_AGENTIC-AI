{
 "cells": [
  {
   "cell_type": "code",
   "execution_count": 2,
   "id": "b3f70e3c-dde2-43f6-946e-cf9c70b214ee",
   "metadata": {},
   "outputs": [
    {
     "name": "stdout",
     "output_type": "stream",
     "text": [
      "4\n",
      "<class 'int'>\n"
     ]
    }
   ],
   "source": [
    "x=4\n",
    "print(x)\n",
    "print(type(x))"
   ]
  },
  {
   "cell_type": "code",
   "execution_count": 3,
   "id": "2496e22f-3660-4e33-b788-b209064954de",
   "metadata": {},
   "outputs": [
    {
     "name": "stdout",
     "output_type": "stream",
     "text": [
      "4.5\n",
      "<class 'float'>\n"
     ]
    }
   ],
   "source": [
    "x=4.5\n",
    "print(x)\n",
    "print(type(x))"
   ]
  },
  {
   "cell_type": "code",
   "execution_count": 5,
   "id": "fabe7ce8-130b-456f-b6aa-fbb9c80de026",
   "metadata": {},
   "outputs": [
    {
     "name": "stdout",
     "output_type": "stream",
     "text": [
      "sainath\n",
      "<class 'str'>\n"
     ]
    }
   ],
   "source": [
    "x=(\"sainath\")\n",
    "print(x)\n",
    "print(type(x))"
   ]
  },
  {
   "cell_type": "code",
   "execution_count": 6,
   "id": "a9f4280c-9283-4a20-b71b-b29116d7254b",
   "metadata": {},
   "outputs": [
    {
     "name": "stdout",
     "output_type": "stream",
     "text": [
      "i\n",
      "<class 'str'>\n"
     ]
    }
   ],
   "source": [
    "x=(\"sainath\")\n",
    "print(x[2])\n",
    "print(type(x))"
   ]
  },
  {
   "cell_type": "code",
   "execution_count": 16,
   "id": "020294ec-12ce-4d3d-97c9-5eb5e853127e",
   "metadata": {},
   "outputs": [
    {
     "name": "stdout",
     "output_type": "stream",
     "text": [
      "emmidi\n",
      "<class 'tuple'>\n"
     ]
    }
   ],
   "source": [
    "t=(\"sainath\",\"emmidi\")\n",
    "print(t[1])\n",
    "print(type(t))"
   ]
  },
  {
   "cell_type": "code",
   "execution_count": 11,
   "id": "7e326ca5-3f58-4abf-9d9f-8de48d90ff3e",
   "metadata": {},
   "outputs": [
    {
     "name": "stdout",
     "output_type": "stream",
     "text": [
      "{'sainath'}\n",
      "<class 'set'>\n"
     ]
    }
   ],
   "source": [
    "d={\"sainath\"}\n",
    "print(d)\n",
    "print(type(d))"
   ]
  },
  {
   "cell_type": "code",
   "execution_count": 15,
   "id": "44482f57-5676-4c88-a58a-5e8f5dea5195",
   "metadata": {},
   "outputs": [
    {
     "name": "stdout",
     "output_type": "stream",
     "text": [
      "['sainath']\n",
      "<class 'list'>\n"
     ]
    }
   ],
   "source": [
    "l=[\"sainath\"]\n",
    "print(l)\n",
    "print(type(l))"
   ]
  },
  {
   "cell_type": "code",
   "execution_count": 20,
   "id": "1aded6cb-c0ba-4c48-b931-06ec5d2f8617",
   "metadata": {},
   "outputs": [
    {
     "name": "stdout",
     "output_type": "stream",
     "text": [
      "Set with the use of List:  ['sainath', 'emmidi']\n",
      "<class 'list'>\n"
     ]
    }
   ],
   "source": [
    "s=[\"sainath\",\"emmidi\"]\n",
    "print(\"Set with the use of List: \" , s)\n",
    "\n",
    "print(type(s))"
   ]
  },
  {
   "cell_type": "code",
   "execution_count": 36,
   "id": "8fcd47e0-76b8-4af0-8969-e4bffb1c1b09",
   "metadata": {},
   "outputs": [
    {
     "name": "stdout",
     "output_type": "stream",
     "text": [
      "Set with the use of String:  ('sainath', 'emmidi')\n",
      "<class 'tuple'>\n"
     ]
    }
   ],
   "source": [
    "s=(\"sainath\",\"emmidi\")\n",
    "print(\"Set with the use of String: \" , s)\n",
    "print(type(s))"
   ]
  },
  {
   "cell_type": "code",
   "execution_count": 35,
   "id": "f6233bd1-c92b-4c90-85fe-39dea5e74b33",
   "metadata": {},
   "outputs": [
    {
     "name": "stdout",
     "output_type": "stream",
     "text": [
      "Set with the use of String:  {'i', 's', 'e', 'm', 'h', 'a', 'd', 't', 'n'}\n",
      "<class 'set'>\n"
     ]
    }
   ],
   "source": [
    "s=set(\"sainathemmidi\")\n",
    "print(\"Set with the use of String: \" , s)\n",
    "\n",
    "print(type(s))"
   ]
  },
  {
   "cell_type": "code",
   "execution_count": 34,
   "id": "cde87fee-3b4f-4f28-bdc7-8af24378d257",
   "metadata": {},
   "outputs": [
    {
     "name": "stdout",
     "output_type": "stream",
     "text": [
      "Set with the use of List:  set['sainathemmidi']\n",
      "<class 'types.GenericAlias'>\n"
     ]
    }
   ],
   "source": [
    "s=set[\"sainathemmidi\"]\n",
    "print(\"Set with the use of List: \" , s)\n",
    "\n",
    "print(type(s))\n"
   ]
  },
  {
   "cell_type": "code",
   "execution_count": 68,
   "id": "be2941f0-c0df-45e2-86a4-221beb8b3580",
   "metadata": {},
   "outputs": [
    {
     "name": "stdout",
     "output_type": "stream",
     "text": [
      "Set with the use of String:  {'sainathemmidi'}\n",
      "<class 'set'>\n"
     ]
    }
   ],
   "source": [
    "s=set({\"sainathemmidi\"})\n",
    "print(\"Set with the use of String: \" , s )\n",
    "print(type(s))"
   ]
  },
  {
   "cell_type": "code",
   "execution_count": 50,
   "id": "d10fd050-a1b6-4faf-9857-d02f33c66085",
   "metadata": {},
   "outputs": [
    {
     "name": "stdout",
     "output_type": "stream",
     "text": [
      "a less han b\n"
     ]
    }
   ],
   "source": [
    "a=6\n",
    "b=7\n",
    "if a>b:\n",
    "  print(\"a greater than b\")\n",
    "else:\n",
    "  print(\"a less han b\")\n",
    "    \n"
   ]
  },
  {
   "cell_type": "code",
   "execution_count": 54,
   "id": "7363ac0f-75c0-4ffe-9250-956814099859",
   "metadata": {},
   "outputs": [
    {
     "name": "stdout",
     "output_type": "stream",
     "text": [
      "True\n"
     ]
    }
   ],
   "source": [
    "a=6\n",
    "b=7\n",
    "if a>b:\n",
    "  print(bool(\"a greater than b\"))\n",
    "else:\n",
    "  print(bool(\"a less han b\"))"
   ]
  },
  {
   "cell_type": "code",
   "execution_count": 19,
   "id": "9f126f79-25c0-4c48-9a85-aeb41609bb3b",
   "metadata": {},
   "outputs": [
    {
     "name": "stdout",
     "output_type": "stream",
     "text": [
      "True\n",
      "<class 'int'>\n"
     ]
    }
   ],
   "source": [
    "a=6\n",
    "b=7\n",
    "if a>b:\n",
    "  print(bool(\"a is less than b\"))\n",
    "else:\n",
    "    print(bool(\"a is greater than b\"))\n",
    "    print(type(a))\n"
   ]
  },
  {
   "cell_type": "code",
   "execution_count": 15,
   "id": "dca7a295-4eff-491c-8655-2ba74963ce35",
   "metadata": {},
   "outputs": [
    {
     "name": "stdout",
     "output_type": "stream",
     "text": [
      "False\n",
      "<class 'int'>\n"
     ]
    }
   ],
   "source": [
    "a=10\n",
    "b=15\n",
    "print(bool(a>b))\n",
    "print(type(a))"
   ]
  },
  {
   "cell_type": "code",
   "execution_count": 89,
   "id": "3acd5286-ff31-4a97-aa6c-c899af351ef2",
   "metadata": {},
   "outputs": [
    {
     "name": "stdout",
     "output_type": "stream",
     "text": [
      "{'first name': 'sainath', 'last name': 'emmidi'}\n",
      "<class 'dict'>\n"
     ]
    }
   ],
   "source": [
    "names={\n",
    "    \"first name\": \"sainath\",\n",
    "    \"last name\":  \"emmidi\"\n",
    "}\n",
    "print(names)\n",
    "print(type(names))\n"
   ]
  },
  {
   "cell_type": "code",
   "execution_count": 14,
   "id": "83cb2b5f-06a3-4ce3-a00f-401025a85835",
   "metadata": {},
   "outputs": [
    {
     "name": "stdout",
     "output_type": "stream",
     "text": [
      "(32+11j)\n",
      "<class 'complex'>\n"
     ]
    }
   ],
   "source": [
    "a=10+3j\n",
    "b=22+8j\n",
    "print(a+b)\n",
    "print(type(a))"
   ]
  },
  {
   "cell_type": "code",
   "execution_count": 18,
   "id": "44865e01-65b1-4cfe-bc68-91a16a36ed1c",
   "metadata": {},
   "outputs": [
    {
     "name": "stdout",
     "output_type": "stream",
     "text": [
      "<class 'bool'>\n"
     ]
    }
   ],
   "source": [
    "x= True\n",
    "print(type(x))"
   ]
  },
  {
   "cell_type": "code",
   "execution_count": 35,
   "id": "5a5f12a3-3b20-4fdd-8612-3ea851c9b43d",
   "metadata": {},
   "outputs": [
    {
     "name": "stdout",
     "output_type": "stream",
     "text": [
      "EMMIDISAINATH\n",
      "M\n",
      "<class 'str'>\n"
     ]
    }
   ],
   "source": [
    "x= \"EMMIDISAINATH\"\n",
    "print(x)\n",
    "print(x[1])\n",
    "print(type(x))\n"
   ]
  },
  {
   "cell_type": "code",
   "execution_count": 38,
   "id": "1458657e-80db-4039-851a-2f0cdc64fc02",
   "metadata": {},
   "outputs": [
    {
     "name": "stdout",
     "output_type": "stream",
     "text": [
      "{1: 'sainath', 2: 'emmidi'}\n",
      "sainath\n",
      "<class 'dict'>\n"
     ]
    }
   ],
   "source": [
    "d={1: \"sainath\" ,2: \"emmidi\"}\n",
    "print(d)\n",
    "print(d.get(1))\n",
    "print(type(d))"
   ]
  },
  {
   "cell_type": "code",
   "execution_count": 42,
   "id": "2dcffb7e-abe8-45dd-b3b6-cfa1fef47960",
   "metadata": {},
   "outputs": [
    {
     "data": {
      "text/plain": [
       "110.9"
      ]
     },
     "execution_count": 42,
     "metadata": {},
     "output_type": "execute_result"
    }
   ],
   "source": [
    "#type casting\n",
    "float(110.90)\n"
   ]
  },
  {
   "cell_type": "code",
   "execution_count": 44,
   "id": "950f39e7-e8fd-43f3-90c6-1b0aaa243800",
   "metadata": {},
   "outputs": [
    {
     "data": {
      "text/plain": [
       "1"
      ]
     },
     "execution_count": 44,
     "metadata": {},
     "output_type": "execute_result"
    }
   ],
   "source": [
    "int(True)"
   ]
  },
  {
   "cell_type": "code",
   "execution_count": 45,
   "id": "1b5f2f8d-d38b-42f7-94f1-8a9122744bc2",
   "metadata": {},
   "outputs": [
    {
     "ename": "ValueError",
     "evalue": "invalid literal for int() with base 10: 'ten'",
     "output_type": "error",
     "traceback": [
      "\u001b[0;31m---------------------------------------------------------------------------\u001b[0m",
      "\u001b[0;31mValueError\u001b[0m                                Traceback (most recent call last)",
      "Cell \u001b[0;32mIn[45], line 1\u001b[0m\n\u001b[0;32m----> 1\u001b[0m \u001b[38;5;28mint\u001b[39m(\u001b[38;5;124m'\u001b[39m\u001b[38;5;124mten\u001b[39m\u001b[38;5;124m'\u001b[39m)\n",
      "\u001b[0;31mValueError\u001b[0m: invalid literal for int() with base 10: 'ten'"
     ]
    }
   ],
   "source": [
    "int('ten')"
   ]
  },
  {
   "cell_type": "code",
   "execution_count": 46,
   "id": "23aae586-83b8-4507-a2bd-655fc5ffeb56",
   "metadata": {},
   "outputs": [
    {
     "data": {
      "text/plain": [
       "10"
      ]
     },
     "execution_count": 46,
     "metadata": {},
     "output_type": "execute_result"
    }
   ],
   "source": [
    "int(10)"
   ]
  },
  {
   "cell_type": "code",
   "execution_count": 47,
   "id": "e304c598-af3f-42d0-8543-46e2ae6a644d",
   "metadata": {},
   "outputs": [
    {
     "data": {
      "text/plain": [
       "1.0"
      ]
     },
     "execution_count": 47,
     "metadata": {},
     "output_type": "execute_result"
    }
   ],
   "source": [
    " #int to float\n",
    "float(True)"
   ]
  },
  {
   "cell_type": "code",
   "execution_count": 48,
   "id": "da423377-6e8c-4d00-a081-526c9ab5a21d",
   "metadata": {},
   "outputs": [
    {
     "data": {
      "text/plain": [
       "True"
      ]
     },
     "execution_count": 48,
     "metadata": {},
     "output_type": "execute_result"
    }
   ],
   "source": [
    "bool(10)"
   ]
  },
  {
   "cell_type": "code",
   "execution_count": 49,
   "id": "b6b307d6-eb82-4327-9f46-0c14e7fd4dc9",
   "metadata": {},
   "outputs": [
    {
     "data": {
      "text/plain": [
       "False"
      ]
     },
     "execution_count": 49,
     "metadata": {},
     "output_type": "execute_result"
    }
   ],
   "source": [
    "bool( )"
   ]
  },
  {
   "cell_type": "code",
   "execution_count": 50,
   "id": "d3db6d50-bd64-43d6-9639-cda20b033f7c",
   "metadata": {},
   "outputs": [
    {
     "data": {
      "text/plain": [
       "(10+0j)"
      ]
     },
     "execution_count": 50,
     "metadata": {},
     "output_type": "execute_result"
    }
   ],
   "source": [
    "complex(10)"
   ]
  },
  {
   "cell_type": "code",
   "execution_count": 51,
   "id": "64649dcb-e31e-4f92-9d11-0dfc1fa806ed",
   "metadata": {},
   "outputs": [
    {
     "data": {
      "text/plain": [
       "8885480"
      ]
     },
     "execution_count": 51,
     "metadata": {},
     "output_type": "execute_result"
    }
   ],
   "source": [
    "id(a)"
   ]
  },
  {
   "cell_type": "code",
   "execution_count": 52,
   "id": "c5fffb6e-eb1f-4827-9e85-070b93f7244c",
   "metadata": {},
   "outputs": [
    {
     "name": "stdout",
     "output_type": "stream",
     "text": [
      "8885480\n",
      "8885512\n"
     ]
    }
   ],
   "source": [
    "print(id(a))\n",
    "print(id(b))"
   ]
  },
  {
   "cell_type": "code",
   "execution_count": 53,
   "id": "94d60998-eaaf-4f4f-bda0-b0fbf6959333",
   "metadata": {},
   "outputs": [
    {
     "data": {
      "text/plain": [
       "'a3max'"
      ]
     },
     "execution_count": 53,
     "metadata": {},
     "output_type": "execute_result"
    }
   ],
   "source": [
    "index= 'a3max'\n",
    "index"
   ]
  },
  {
   "cell_type": "code",
   "execution_count": 8,
   "id": "52448a77-66bf-4e3a-b592-4ce99692ed40",
   "metadata": {},
   "outputs": [],
   "source": [
    "x=2 "
   ]
  },
  {
   "cell_type": "code",
   "execution_count": 9,
   "id": "6f612c79-c568-48c1-adbd-61a5c0957628",
   "metadata": {},
   "outputs": [
    {
     "name": "stdout",
     "output_type": "stream",
     "text": [
      "10 5\n"
     ]
    }
   ],
   "source": [
    "\n",
    "#operators\n",
    "a=10\n",
    "b=5\n",
    "print(a,b)"
   ]
  },
  {
   "cell_type": "code",
   "execution_count": 10,
   "id": "5554a50c-daa6-4599-bc21-c2bcb99b0547",
   "metadata": {},
   "outputs": [
    {
     "name": "stdout",
     "output_type": "stream",
     "text": [
      "0.25\n",
      "16\n",
      "0\n",
      "256\n"
     ]
    }
   ],
   "source": [
    "a=2\n",
    "b=8\n",
    "print(a/b)\n",
    "print(a*b)\n",
    "print(a//b)\n",
    "print(a**b)"
   ]
  },
  {
   "cell_type": "code",
   "execution_count": 12,
   "id": "076a6cc9-63fe-444d-bfb7-7e06c84e437d",
   "metadata": {},
   "outputs": [
    {
     "name": "stdout",
     "output_type": "stream",
     "text": [
      "4\n"
     ]
    }
   ],
   "source": [
    "x=2\n",
    "x=x+2\n",
    "print(x)"
   ]
  },
  {
   "cell_type": "code",
   "execution_count": 13,
   "id": "9f38b280-fcbb-4f35-869e-4e1a22a0980e",
   "metadata": {},
   "outputs": [
    {
     "data": {
      "text/plain": [
       "8"
      ]
     },
     "execution_count": 13,
     "metadata": {},
     "output_type": "execute_result"
    }
   ],
   "source": [
    "x*+2"
   ]
  },
  {
   "cell_type": "code",
   "execution_count": 2,
   "id": "8136f8a0-870e-46ed-9b7d-154b141f6b3f",
   "metadata": {},
   "outputs": [
    {
     "name": "stdout",
     "output_type": "stream",
     "text": [
      "-1\n"
     ]
    }
   ],
   "source": [
    "a=6\n",
    "b=7\n",
    "a=a+b\n",
    "a=a-b\n",
    "a=a-b\n",
    "print(a)\n",
    "\n"
   ]
  },
  {
   "cell_type": "code",
   "execution_count": null,
   "id": "bb99b08c-13e1-4775-a6c0-6611f4933033",
   "metadata": {},
   "outputs": [],
   "source": []
  }
 ],
 "metadata": {
  "kernelspec": {
   "display_name": "anaconda-panel-2023.05-py310",
   "language": "python",
   "name": "conda-env-anaconda-panel-2023.05-py310-py"
  },
  "language_info": {
   "codemirror_mode": {
    "name": "ipython",
    "version": 3
   },
   "file_extension": ".py",
   "mimetype": "text/x-python",
   "name": "python",
   "nbconvert_exporter": "python",
   "pygments_lexer": "ipython3",
   "version": "3.11.5"
  }
 },
 "nbformat": 4,
 "nbformat_minor": 5
}
